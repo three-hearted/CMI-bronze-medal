{
 "cells": [
  {
   "cell_type": "code",
   "execution_count": 1,
   "id": "9c6197a4",
   "metadata": {
    "_kg_hide-input": false,
    "_kg_hide-output": false,
    "execution": {
     "iopub.execute_input": "2025-01-24T19:05:20.419110Z",
     "iopub.status.busy": "2025-01-24T19:05:20.418782Z",
     "iopub.status.idle": "2025-01-24T19:05:23.744872Z",
     "shell.execute_reply": "2025-01-24T19:05:23.743781Z"
    },
    "papermill": {
     "duration": 3.341564,
     "end_time": "2025-01-24T19:05:23.746975",
     "exception": false,
     "start_time": "2025-01-24T19:05:20.405411",
     "status": "completed"
    },
    "tags": []
   },
   "outputs": [
    {
     "name": "stdout",
     "output_type": "stream",
     "text": [
      "../input/1-cmi-target-sii-imputation-via-lgbm:\r\n",
      "__notebook__.ipynb  __results__.html   custom.css\r\n",
      "__output__.json     __results___files  train_sii.csv\r\n",
      "\r\n",
      "../input/child-mind-institute-problematic-internet-use:\r\n",
      "data_dictionary.csv    series_test.parquet   test.csv\r\n",
      "sample_submission.csv  series_train.parquet  train.csv\r\n"
     ]
    }
   ],
   "source": [
    "import numpy as np\n",
    "import pandas as pd\n",
    "import polars as pl\n",
    "import os, time, copy \n",
    "import gc, json, random\n",
    "from pathlib import Path\n",
    "\n",
    "import itertools\n",
    "from scipy import stats\n",
    "from scipy.optimize import minimize\n",
    "from scipy.spatial.distance import cdist\n",
    "\n",
    "import seaborn as sns\n",
    "from matplotlib import colors\n",
    "import matplotlib.pyplot as plt\n",
    "from colorama import Style, Fore\n",
    "%matplotlib inline\n",
    "\n",
    "# ............................................\n",
    "import warnings\n",
    "warnings.filterwarnings('ignore')\n",
    "!ls ../input/*"
   ]
  },
  {
   "cell_type": "code",
   "execution_count": 2,
   "id": "443cf728",
   "metadata": {
    "_kg_hide-output": false,
    "execution": {
     "iopub.execute_input": "2025-01-24T19:05:23.772152Z",
     "iopub.status.busy": "2025-01-24T19:05:23.771460Z",
     "iopub.status.idle": "2025-01-24T19:05:23.882569Z",
     "shell.execute_reply": "2025-01-24T19:05:23.881677Z"
    },
    "papermill": {
     "duration": 0.126009,
     "end_time": "2025-01-24T19:05:23.884866",
     "exception": false,
     "start_time": "2025-01-24T19:05:23.758857",
     "status": "completed"
    },
    "tags": []
   },
   "outputs": [
    {
     "data": {
      "text/plain": [
       "((3960, 81), (20, 58), (20, 2))"
      ]
     },
     "execution_count": 2,
     "metadata": {},
     "output_type": "execute_result"
    }
   ],
   "source": [
    "# Notebook -1 >> >> \n",
    "dtrain = pd.read_csv('/kaggle/input/1-cmi-target-sii-imputation-via-lgbm/train_sii.csv', index_col='id')\n",
    "\n",
    "# ...............................................................................................................\n",
    "dtest = pd.read_csv('/kaggle/input/child-mind-institute-problematic-internet-use/test.csv', index_col='id')\n",
    "sub_sample = pd.read_csv('/kaggle/input/child-mind-institute-problematic-internet-use/sample_submission.csv')\n",
    "\n",
    "# ..............................................................................................................\n",
    "dtrain_col = dtrain.columns.tolist()\n",
    "dtest_col = dtest.columns.tolist()\n",
    "\n",
    "dtrain.shape, dtest.shape, sub_sample.shape"
   ]
  },
  {
   "cell_type": "code",
   "execution_count": 3,
   "id": "9c7aad86",
   "metadata": {
    "execution": {
     "iopub.execute_input": "2025-01-24T19:05:23.918342Z",
     "iopub.status.busy": "2025-01-24T19:05:23.918038Z",
     "iopub.status.idle": "2025-01-24T19:05:23.933723Z",
     "shell.execute_reply": "2025-01-24T19:05:23.932763Z"
    },
    "papermill": {
     "duration": 0.029875,
     "end_time": "2025-01-24T19:05:23.935634",
     "exception": false,
     "start_time": "2025-01-24T19:05:23.905759",
     "status": "completed"
    },
    "tags": []
   },
   "outputs": [
    {
     "data": {
      "text/plain": [
       "(81,\n",
       " Basic_Demos-Enroll_Season        0.000000\n",
       " Basic_Demos-Age                  0.000000\n",
       " Basic_Demos-Sex                  0.000000\n",
       " CGAS-Season                     35.479798\n",
       " CGAS-CGAS_Score                 38.863636\n",
       " Physical-Season                 16.414141\n",
       " Physical-BMI                    23.686869\n",
       " Physical-Height                 23.560606\n",
       " Physical-Weight                 22.323232\n",
       " Physical-Waist_Circumference    77.323232\n",
       " Physical-Diastolic_BP           25.404040\n",
       " Physical-HeartRate              25.075758\n",
       " Physical-Systolic_BP            25.404040\n",
       " Fitness_Endurance-Season        66.969697\n",
       " Fitness_Endurance-Max_Stage     81.237374\n",
       " Fitness_Endurance-Time_Mins     81.313131\n",
       " Fitness_Endurance-Time_Sec      81.313131\n",
       " FGC-Season                      15.505051\n",
       " FGC-FGC_CU                      41.363636\n",
       " FGC-FGC_CU_Zone                 42.373737\n",
       " dtype: float64)"
      ]
     },
     "execution_count": 3,
     "metadata": {},
     "output_type": "execute_result"
    }
   ],
   "source": [
    "# print('Duplicates in dtrain:', dtrain.duplicated().sum())\n",
    "# print('Duplicates in dtest:', dtest.duplicated().sum())\n",
    "\n",
    "# dtrain.drop_duplicates(inplace=True)\n",
    "# dtrain.shape, dtest.shape\n",
    "\n",
    "# .......................................................................\n",
    "train = dtrain.copy()\n",
    "test = dtest.copy()\n",
    "\n",
    "train_col = train.columns.tolist()\n",
    "test_col = test.columns.tolist()\n",
    "\n",
    "# .......................................................................\n",
    "len(train_col), train.isnull().mean()[:20] * 100"
   ]
  },
  {
   "cell_type": "markdown",
   "id": "dfcea8b9",
   "metadata": {
    "papermill": {
     "duration": 0.011489,
     "end_time": "2025-01-24T19:05:23.962020",
     "exception": false,
     "start_time": "2025-01-24T19:05:23.950531",
     "status": "completed"
    },
    "tags": []
   },
   "source": [
    "## 📱Features"
   ]
  },
  {
   "cell_type": "code",
   "execution_count": 4,
   "id": "b0da43f1",
   "metadata": {
    "execution": {
     "iopub.execute_input": "2025-01-24T19:05:23.985951Z",
     "iopub.status.busy": "2025-01-24T19:05:23.985636Z",
     "iopub.status.idle": "2025-01-24T19:05:24.012986Z",
     "shell.execute_reply": "2025-01-24T19:05:24.012095Z"
    },
    "papermill": {
     "duration": 0.040987,
     "end_time": "2025-01-24T19:05:24.014672",
     "exception": false,
     "start_time": "2025-01-24T19:05:23.973685",
     "status": "completed"
    },
    "tags": []
   },
   "outputs": [
    {
     "name": "stdout",
     "output_type": "stream",
     "text": [
      "Number of Features : 58\n",
      "The number of numerical features : 47\n",
      "The number of categorical features : 11\n",
      "The number of target features : 23 \n",
      "\n"
     ]
    },
    {
     "data": {
      "text/html": [
       "<div>\n",
       "<style scoped>\n",
       "    .dataframe tbody tr th:only-of-type {\n",
       "        vertical-align: middle;\n",
       "    }\n",
       "\n",
       "    .dataframe tbody tr th {\n",
       "        vertical-align: top;\n",
       "    }\n",
       "\n",
       "    .dataframe thead th {\n",
       "        text-align: right;\n",
       "    }\n",
       "</style>\n",
       "<table border=\"1\" class=\"dataframe\">\n",
       "  <thead>\n",
       "    <tr style=\"text-align: right;\">\n",
       "      <th></th>\n",
       "      <th>U_number train_cat</th>\n",
       "      <th>U_number test_cat</th>\n",
       "    </tr>\n",
       "  </thead>\n",
       "  <tbody>\n",
       "    <tr>\n",
       "      <th>Basic_Demos-Sex</th>\n",
       "      <td>2</td>\n",
       "      <td>2</td>\n",
       "    </tr>\n",
       "    <tr>\n",
       "      <th>Basic_Demos-Enroll_Season</th>\n",
       "      <td>4</td>\n",
       "      <td>4</td>\n",
       "    </tr>\n",
       "    <tr>\n",
       "      <th>CGAS-Season</th>\n",
       "      <td>4</td>\n",
       "      <td>4</td>\n",
       "    </tr>\n",
       "    <tr>\n",
       "      <th>Physical-Season</th>\n",
       "      <td>4</td>\n",
       "      <td>4</td>\n",
       "    </tr>\n",
       "    <tr>\n",
       "      <th>Fitness_Endurance-Season</th>\n",
       "      <td>4</td>\n",
       "      <td>3</td>\n",
       "    </tr>\n",
       "    <tr>\n",
       "      <th>FGC-Season</th>\n",
       "      <td>4</td>\n",
       "      <td>4</td>\n",
       "    </tr>\n",
       "    <tr>\n",
       "      <th>BIA-Season</th>\n",
       "      <td>4</td>\n",
       "      <td>3</td>\n",
       "    </tr>\n",
       "    <tr>\n",
       "      <th>PAQ_A-Season</th>\n",
       "      <td>4</td>\n",
       "      <td>1</td>\n",
       "    </tr>\n",
       "    <tr>\n",
       "      <th>PAQ_C-Season</th>\n",
       "      <td>4</td>\n",
       "      <td>4</td>\n",
       "    </tr>\n",
       "    <tr>\n",
       "      <th>SDS-Season</th>\n",
       "      <td>4</td>\n",
       "      <td>4</td>\n",
       "    </tr>\n",
       "    <tr>\n",
       "      <th>PreInt_EduHx-Season</th>\n",
       "      <td>4</td>\n",
       "      <td>4</td>\n",
       "    </tr>\n",
       "  </tbody>\n",
       "</table>\n",
       "</div>"
      ],
      "text/plain": [
       "                           U_number train_cat  U_number test_cat\n",
       "Basic_Demos-Sex                             2                  2\n",
       "Basic_Demos-Enroll_Season                   4                  4\n",
       "CGAS-Season                                 4                  4\n",
       "Physical-Season                             4                  4\n",
       "Fitness_Endurance-Season                    4                  3\n",
       "FGC-Season                                  4                  4\n",
       "BIA-Season                                  4                  3\n",
       "PAQ_A-Season                                4                  1\n",
       "PAQ_C-Season                                4                  4\n",
       "SDS-Season                                  4                  4\n",
       "PreInt_EduHx-Season                         4                  4"
      ]
     },
     "execution_count": 4,
     "metadata": {},
     "output_type": "execute_result"
    }
   ],
   "source": [
    "features = test_col.copy()\n",
    "print('Number of Features :', len(features))\n",
    "\n",
    "# Numerical Features\n",
    "num_features = [f for f in features if train[f].dtype==float or f=='Basic_Demos-Age']\n",
    "print('The number of numerical features :', len(num_features))\n",
    "\n",
    "# Categorical Features\n",
    "cat_features = [f for f in features if f not in num_features]\n",
    "print('The number of categorical features :', len(cat_features))\n",
    "\n",
    "# Target Features\n",
    "target_col = [f for f in train_col if f not in test_col]\n",
    "print('The number of target features :', len(target_col), '\\n')\n",
    "\n",
    "# Unique Number\n",
    "pd.set_option('display.max_rows', 500)\n",
    "pd.DataFrame(data= {'U_number train_cat': train[cat_features].nunique(), \n",
    "                    'U_number test_cat': test[cat_features].nunique()}).sort_values(by=['U_number train_cat']) "
   ]
  },
  {
   "cell_type": "markdown",
   "id": "cd602ec0",
   "metadata": {
    "papermill": {
     "duration": 0.011507,
     "end_time": "2025-01-24T19:05:24.037554",
     "exception": false,
     "start_time": "2025-01-24T19:05:24.026047",
     "status": "completed"
    },
    "tags": []
   },
   "source": [
    "## 📱Features Imputation (для трейна & теста)\n",
    "\n",
    "- Для числовых фич используется библиотека **KNNImputer**, а для категориальных фич для пропущенных значений создается новая категория под названием **\"unknown\"**."
   ]
  },
  {
   "cell_type": "code",
   "execution_count": 5,
   "id": "4d443d1c",
   "metadata": {
    "execution": {
     "iopub.execute_input": "2025-01-24T19:05:24.061566Z",
     "iopub.status.busy": "2025-01-24T19:05:24.061237Z",
     "iopub.status.idle": "2025-01-24T19:05:28.969705Z",
     "shell.execute_reply": "2025-01-24T19:05:28.968805Z"
    },
    "papermill": {
     "duration": 4.922702,
     "end_time": "2025-01-24T19:05:28.971605",
     "exception": false,
     "start_time": "2025-01-24T19:05:24.048903",
     "status": "completed"
    },
    "tags": []
   },
   "outputs": [
    {
     "data": {
      "text/plain": [
       "((3980, 58),\n",
       " Basic_Demos-Enroll_Season       0.0\n",
       " Basic_Demos-Age                 0.0\n",
       " Basic_Demos-Sex                 0.0\n",
       " CGAS-Season                     0.0\n",
       " CGAS-CGAS_Score                 0.0\n",
       " Physical-Season                 0.0\n",
       " Physical-BMI                    0.0\n",
       " Physical-Height                 0.0\n",
       " Physical-Weight                 0.0\n",
       " Physical-Waist_Circumference    0.0\n",
       " Physical-Diastolic_BP           0.0\n",
       " Physical-HeartRate              0.0\n",
       " Physical-Systolic_BP            0.0\n",
       " Fitness_Endurance-Season        0.0\n",
       " Fitness_Endurance-Max_Stage     0.0\n",
       " Fitness_Endurance-Time_Mins     0.0\n",
       " Fitness_Endurance-Time_Sec      0.0\n",
       " FGC-Season                      0.0\n",
       " FGC-FGC_CU                      0.0\n",
       " FGC-FGC_CU_Zone                 0.0\n",
       " dtype: float64)"
      ]
     },
     "execution_count": 5,
     "metadata": {},
     "output_type": "execute_result"
    }
   ],
   "source": [
    "from sklearn.impute import KNNImputer\n",
    "imputer_num = KNNImputer(n_neighbors=2, weights=\"uniform\")\n",
    "\n",
    "# .........................................................................\n",
    "df_data = pd.concat([train[features], test], axis=0)\n",
    "\n",
    "imputer_num.fit(df_data[num_features])\n",
    "df_data[num_features] = imputer_num.transform(df_data[num_features])\n",
    "\n",
    "for col in cat_features:\n",
    "    df_data[col] = df_data[col].fillna('unknown')\n",
    "    df_data[col] = df_data[col].astype('category')\n",
    "\n",
    "# .........................................................................\n",
    "df_data.shape, df_data.isnull().mean()[:20] * 100 "
   ]
  },
  {
   "cell_type": "markdown",
   "id": "bf218b49",
   "metadata": {
    "papermill": {
     "duration": 0.011234,
     "end_time": "2025-01-24T19:05:28.994732",
     "exception": false,
     "start_time": "2025-01-24T19:05:28.983498",
     "status": "completed"
    },
    "tags": []
   },
   "source": [
    "## 📱Pandas get_dummies & Preprocessing (для трейна & теста)"
   ]
  },
  {
   "cell_type": "code",
   "execution_count": 6,
   "id": "c68af57b",
   "metadata": {
    "execution": {
     "iopub.execute_input": "2025-01-24T19:05:29.018840Z",
     "iopub.status.busy": "2025-01-24T19:05:29.018541Z",
     "iopub.status.idle": "2025-01-24T19:05:29.044675Z",
     "shell.execute_reply": "2025-01-24T19:05:29.043650Z"
    },
    "papermill": {
     "duration": 0.040539,
     "end_time": "2025-01-24T19:05:29.046559",
     "exception": false,
     "start_time": "2025-01-24T19:05:29.006020",
     "status": "completed"
    },
    "tags": []
   },
   "outputs": [
    {
     "data": {
      "text/plain": [
       "(3980, 98)"
      ]
     },
     "execution_count": 6,
     "metadata": {},
     "output_type": "execute_result"
    }
   ],
   "source": [
    "df_code = pd.get_dummies(df_data, columns=cat_features)\n",
    "\n",
    "# ......................................................................\n",
    "# StandardScaler\n",
    "# from sklearn.preprocessing import StandardScaler\n",
    "\n",
    "# scaler = StandardScaler()\n",
    "# df_code[num_features] = scaler.fit_transform(df_code[num_features])\n",
    "\n",
    "# ......................................................................\n",
    "# MinMaxScaler\n",
    "from sklearn.preprocessing import MinMaxScaler\n",
    "\n",
    "scaler = MinMaxScaler()\n",
    "df_code[num_features] = scaler.fit_transform(df_code[num_features])\n",
    "\n",
    "# ......................................................................\n",
    "df_code.shape"
   ]
  },
  {
   "cell_type": "markdown",
   "id": "4cc97177",
   "metadata": {
    "papermill": {
     "duration": 0.011514,
     "end_time": "2025-01-24T19:05:29.070241",
     "exception": false,
     "start_time": "2025-01-24T19:05:29.058727",
     "status": "completed"
    },
    "tags": []
   },
   "source": [
    "## 📱Агрегация time series\n",
    "\n",
    "- Статистика time series (например, среднее значение, стандартное отклонение) из данных **Actigraphy** вычисляется и объединяется с основным набором данных для создания дополнительных возможностей для обучения модели."
   ]
  },
  {
   "cell_type": "code",
   "execution_count": 7,
   "id": "b371b9f6",
   "metadata": {
    "execution": {
     "iopub.execute_input": "2025-01-24T19:05:29.094563Z",
     "iopub.status.busy": "2025-01-24T19:05:29.093806Z",
     "iopub.status.idle": "2025-01-24T19:05:29.108019Z",
     "shell.execute_reply": "2025-01-24T19:05:29.107383Z"
    },
    "papermill": {
     "duration": 0.028142,
     "end_time": "2025-01-24T19:05:29.109628",
     "exception": false,
     "start_time": "2025-01-24T19:05:29.081486",
     "status": "completed"
    },
    "tags": []
   },
   "outputs": [],
   "source": [
    "from tqdm import tqdm\n",
    "from IPython.display import clear_output\n",
    "from concurrent.futures import ThreadPoolExecutor\n",
    "\n",
    "import warnings\n",
    "warnings.filterwarnings('ignore')\n",
    "pd.options.display.max_columns = None"
   ]
  },
  {
   "cell_type": "code",
   "execution_count": 8,
   "id": "181a82c8",
   "metadata": {
    "execution": {
     "iopub.execute_input": "2025-01-24T19:05:29.133750Z",
     "iopub.status.busy": "2025-01-24T19:05:29.133482Z",
     "iopub.status.idle": "2025-01-24T19:06:45.163675Z",
     "shell.execute_reply": "2025-01-24T19:06:45.162671Z"
    },
    "papermill": {
     "duration": 76.044022,
     "end_time": "2025-01-24T19:06:45.165443",
     "exception": false,
     "start_time": "2025-01-24T19:05:29.121421",
     "status": "completed"
    },
    "tags": []
   },
   "outputs": [
    {
     "name": "stderr",
     "output_type": "stream",
     "text": [
      "100%|██████████| 996/996 [01:15<00:00, 13.15it/s]\n",
      "100%|██████████| 2/2 [00:00<00:00, 10.64it/s]\n"
     ]
    },
    {
     "data": {
      "text/plain": [
       "((996, 97), (2, 97), 96)"
      ]
     },
     "execution_count": 8,
     "metadata": {},
     "output_type": "execute_result"
    }
   ],
   "source": [
    "# .....................................................................................................................\n",
    "def process_file(filename, dirname):\n",
    "    data = pd.read_parquet(os.path.join(dirname, filename, 'part-0.parquet'))\n",
    "    data.drop('step', axis=1, inplace=True)\n",
    "    return data.describe().values.reshape(-1), filename.split('=')[1]\n",
    "\n",
    "# .....................................................................................................................\n",
    "def load_time_series(dirname) -> pd.DataFrame:\n",
    "    ids = os.listdir(dirname)\n",
    "    \n",
    "    with ThreadPoolExecutor() as executor:\n",
    "        results = list(tqdm(executor.map(lambda fname: process_file(fname, dirname), ids), total=len(ids)))\n",
    "    stats, indexes = zip(*results)\n",
    "    \n",
    "    data = pd.DataFrame(stats, columns=[f\"stat_{i}\" for i in range(len(stats[0]))])\n",
    "    data['id'] = indexes\n",
    "    return data\n",
    "\n",
    "# .....................................................................................................................\n",
    "train_ts = load_time_series('/kaggle/input/child-mind-institute-problematic-internet-use/series_train.parquet')\n",
    "test_ts = load_time_series('/kaggle/input/child-mind-institute-problematic-internet-use/series_test.parquet')\n",
    "\n",
    "time_series_cols = train_ts.columns.tolist()\n",
    "time_series_cols.remove('id')\n",
    "\n",
    "# .....................................................................................................................\n",
    "train_ts.shape, test_ts.shape, len(time_series_cols)"
   ]
  },
  {
   "cell_type": "code",
   "execution_count": 9,
   "id": "b8cb94cb",
   "metadata": {
    "execution": {
     "iopub.execute_input": "2025-01-24T19:06:45.221386Z",
     "iopub.status.busy": "2025-01-24T19:06:45.221059Z",
     "iopub.status.idle": "2025-01-24T19:06:45.242620Z",
     "shell.execute_reply": "2025-01-24T19:06:45.241696Z"
    },
    "papermill": {
     "duration": 0.05143,
     "end_time": "2025-01-24T19:06:45.244680",
     "exception": false,
     "start_time": "2025-01-24T19:06:45.193250",
     "status": "completed"
    },
    "tags": []
   },
   "outputs": [
    {
     "data": {
      "text/plain": [
       "(998, 97)"
      ]
     },
     "execution_count": 9,
     "metadata": {},
     "output_type": "execute_result"
    }
   ],
   "source": [
    "df_data_ts = pd.concat([train_ts, test_ts], axis=0)\n",
    "\n",
    "# .........................................................................................\n",
    "# StandardScaler\n",
    "# from sklearn.preprocessing import StandardScaler\n",
    "\n",
    "# scaler = StandardScaler()\n",
    "# df_data_ts[time_series_cols] = scaler.fit_transform(df_data_ts[time_series_cols])\n",
    "\n",
    "# .........................................................................................\n",
    "# MinMaxScaler\n",
    "from sklearn.preprocessing import MinMaxScaler\n",
    "\n",
    "scaler = MinMaxScaler()\n",
    "df_data_ts[time_series_cols] = scaler.fit_transform(df_data_ts[time_series_cols])\n",
    "\n",
    "# .........................................................................................\n",
    "df_data_ts.shape"
   ]
  },
  {
   "cell_type": "code",
   "execution_count": 10,
   "id": "6ed2e150",
   "metadata": {
    "execution": {
     "iopub.execute_input": "2025-01-24T19:06:45.300188Z",
     "iopub.status.busy": "2025-01-24T19:06:45.299441Z",
     "iopub.status.idle": "2025-01-24T19:06:45.309343Z",
     "shell.execute_reply": "2025-01-24T19:06:45.308594Z"
    },
    "papermill": {
     "duration": 0.038366,
     "end_time": "2025-01-24T19:06:45.310971",
     "exception": false,
     "start_time": "2025-01-24T19:06:45.272605",
     "status": "completed"
    },
    "tags": []
   },
   "outputs": [
    {
     "data": {
      "text/plain": [
       "((3960, 99), (20, 99), (3980, 99))"
      ]
     },
     "execution_count": 10,
     "metadata": {},
     "output_type": "execute_result"
    }
   ],
   "source": [
    "df_code = df_code.reset_index()\n",
    "\n",
    "train_df = df_code[:3960].copy()\n",
    "test_df = df_code[3960:].copy()\n",
    "\n",
    "train_df.shape, test_df.shape, df_code.shape"
   ]
  },
  {
   "cell_type": "code",
   "execution_count": 11,
   "id": "b824d21b",
   "metadata": {
    "execution": {
     "iopub.execute_input": "2025-01-24T19:06:45.366560Z",
     "iopub.status.busy": "2025-01-24T19:06:45.366251Z",
     "iopub.status.idle": "2025-01-24T19:06:45.376698Z",
     "shell.execute_reply": "2025-01-24T19:06:45.375773Z"
    },
    "papermill": {
     "duration": 0.039845,
     "end_time": "2025-01-24T19:06:45.378476",
     "exception": false,
     "start_time": "2025-01-24T19:06:45.338631",
     "status": "completed"
    },
    "tags": []
   },
   "outputs": [
    {
     "data": {
      "text/plain": [
       "((996, 97), (2, 97), (998, 97))"
      ]
     },
     "execution_count": 11,
     "metadata": {},
     "output_type": "execute_result"
    }
   ],
   "source": [
    "train_ts = df_data_ts[:996].copy()\n",
    "test_ts = df_data_ts[996:].copy()\n",
    "\n",
    "train_ts.shape, test_ts.shape, df_data_ts.shape"
   ]
  },
  {
   "cell_type": "code",
   "execution_count": 12,
   "id": "810a566e",
   "metadata": {
    "execution": {
     "iopub.execute_input": "2025-01-24T19:06:45.435510Z",
     "iopub.status.busy": "2025-01-24T19:06:45.434999Z",
     "iopub.status.idle": "2025-01-24T19:06:45.540331Z",
     "shell.execute_reply": "2025-01-24T19:06:45.539504Z"
    },
    "papermill": {
     "duration": 0.134903,
     "end_time": "2025-01-24T19:06:45.542355",
     "exception": false,
     "start_time": "2025-01-24T19:06:45.407452",
     "status": "completed"
    },
    "tags": []
   },
   "outputs": [
    {
     "data": {
      "text/plain": [
       "((3960, 195), (20, 195))"
      ]
     },
     "execution_count": 12,
     "metadata": {},
     "output_type": "execute_result"
    }
   ],
   "source": [
    "train_df = pd.merge(train_df, train_ts, how=\"left\", on='id')\n",
    "test_df = pd.merge(test_df, test_ts, how=\"left\", on='id')\n",
    "\n",
    "# ..................................................................\n",
    "for col in time_series_cols:\n",
    "    \n",
    "    train_df[col] = train_df[col].fillna(train_df[col].median())\n",
    "    test_df[col] = test_df[col].fillna(test_df[col].median())\n",
    "\n",
    "# ..................................................................\n",
    "train_df.shape, test_df.shape"
   ]
  },
  {
   "cell_type": "markdown",
   "id": "62afe068",
   "metadata": {
    "papermill": {
     "duration": 0.02607,
     "end_time": "2025-01-24T19:06:45.599215",
     "exception": false,
     "start_time": "2025-01-24T19:06:45.573145",
     "status": "completed"
    },
    "tags": []
   },
   "source": [
    "## 📱Shapiro–Wilk тест"
   ]
  },
  {
   "cell_type": "code",
   "execution_count": 13,
   "id": "a757b650",
   "metadata": {
    "execution": {
     "iopub.execute_input": "2025-01-24T19:06:45.655750Z",
     "iopub.status.busy": "2025-01-24T19:06:45.655082Z",
     "iopub.status.idle": "2025-01-24T19:06:45.742420Z",
     "shell.execute_reply": "2025-01-24T19:06:45.741496Z"
    },
    "papermill": {
     "duration": 0.118395,
     "end_time": "2025-01-24T19:06:45.744442",
     "exception": false,
     "start_time": "2025-01-24T19:06:45.626047",
     "status": "completed"
    },
    "tags": []
   },
   "outputs": [
    {
     "name": "stdout",
     "output_type": "stream",
     "text": [
      "Number of all columns : 194\n",
      "\t- Column deleted : stat_41\n",
      "\t- Column deleted : stat_42\n",
      "\n",
      "Number of selected columns : 192\n"
     ]
    }
   ],
   "source": [
    "cols = train_df.columns.tolist()\n",
    "cols.remove('id')\n",
    "\n",
    "print('Number of all columns :', len(cols))\n",
    "\n",
    "# ...........................................................\n",
    "cols_select = []\n",
    "alpha = 0.05\n",
    "\n",
    "for col in cols:\n",
    "    _, p_value = stats.shapiro(train_df[col])\n",
    "    \n",
    "    if (p_value <= alpha): \n",
    "        cols_select.append(col) \n",
    "    else:\n",
    "        print('\\t- Column deleted :', col)\n",
    "\n",
    "# ...........................................................\n",
    "print('\\nNumber of selected columns :', len(cols_select))\n"
   ]
  },
  {
   "cell_type": "markdown",
   "id": "c6e2ef3f",
   "metadata": {
    "papermill": {
     "duration": 0.065636,
     "end_time": "2025-01-24T19:06:45.837109",
     "exception": false,
     "start_time": "2025-01-24T19:06:45.771473",
     "status": "completed"
    },
    "tags": []
   },
   "source": [
    "## 📱Корреляция фич"
   ]
  },
  {
   "cell_type": "code",
   "execution_count": 14,
   "id": "e8ab3402",
   "metadata": {
    "execution": {
     "iopub.execute_input": "2025-01-24T19:06:45.894179Z",
     "iopub.status.busy": "2025-01-24T19:06:45.893462Z",
     "iopub.status.idle": "2025-01-24T19:06:46.250898Z",
     "shell.execute_reply": "2025-01-24T19:06:46.250020Z"
    },
    "papermill": {
     "duration": 0.388474,
     "end_time": "2025-01-24T19:06:46.252961",
     "exception": false,
     "start_time": "2025-01-24T19:06:45.864487",
     "status": "completed"
    },
    "tags": []
   },
   "outputs": [
    {
     "data": {
      "text/plain": [
       "95"
      ]
     },
     "execution_count": 14,
     "metadata": {},
     "output_type": "execute_result"
    }
   ],
   "source": [
    "df_corr = train_df.copy()\n",
    "df_corr['sii'] = train['sii'].values.copy()\n",
    "\n",
    "# .............................................................\n",
    "corr_sii = df_corr.corr(numeric_only=True)['sii']\n",
    "corr_sii = corr_sii[(corr_sii > 0.03) | (corr_sii < -0.03)]\n",
    "\n",
    "corr_list = corr_sii.keys().tolist()\n",
    "corr_list.remove('sii')\n",
    "\n",
    "len(corr_list)"
   ]
  },
  {
   "cell_type": "code",
   "execution_count": 15,
   "id": "fb4f62f6",
   "metadata": {
    "execution": {
     "iopub.execute_input": "2025-01-24T19:06:46.309853Z",
     "iopub.status.busy": "2025-01-24T19:06:46.309016Z",
     "iopub.status.idle": "2025-01-24T19:06:46.320918Z",
     "shell.execute_reply": "2025-01-24T19:06:46.320144Z"
    },
    "papermill": {
     "duration": 0.041785,
     "end_time": "2025-01-24T19:06:46.322639",
     "exception": false,
     "start_time": "2025-01-24T19:06:46.280854",
     "status": "completed"
    },
    "tags": []
   },
   "outputs": [
    {
     "data": {
      "text/plain": [
       "((3960,), (3960, 95), (20, 95))"
      ]
     },
     "execution_count": 15,
     "metadata": {},
     "output_type": "execute_result"
    }
   ],
   "source": [
    "y  = train['sii'].copy()\n",
    "X  = train_df[corr_list].copy()\n",
    "XX = test_df[corr_list].copy()\n",
    "\n",
    "y.shape, X.shape, XX.shape"
   ]
  },
  {
   "cell_type": "markdown",
   "id": "0b73af5c",
   "metadata": {
    "papermill": {
     "duration": 0.026991,
     "end_time": "2025-01-24T19:06:46.376564",
     "exception": false,
     "start_time": "2025-01-24T19:06:46.349573",
     "status": "completed"
    },
    "tags": []
   },
   "source": [
    "# <span style=\"color:darkcyan;\">၊၊||၊ LightGBM - Кросс-валидация</span>\n",
    "\n",
    "<p style=\"border-bottom: 50px solid lightgreen\"></p>\n",
    "\n",
    "<p style=\"border-bottom: 15px solid darkcyan\"></p>"
   ]
  },
  {
   "cell_type": "code",
   "execution_count": 16,
   "id": "95961b4e",
   "metadata": {
    "execution": {
     "iopub.execute_input": "2025-01-24T19:06:46.433415Z",
     "iopub.status.busy": "2025-01-24T19:06:46.432773Z",
     "iopub.status.idle": "2025-01-24T19:06:49.459822Z",
     "shell.execute_reply": "2025-01-24T19:06:49.459150Z"
    },
    "papermill": {
     "duration": 3.057439,
     "end_time": "2025-01-24T19:06:49.461805",
     "exception": false,
     "start_time": "2025-01-24T19:06:46.404366",
     "status": "completed"
    },
    "tags": []
   },
   "outputs": [],
   "source": [
    "import lightgbm as lgb\n",
    "from xgboost import XGBRegressor\n",
    "from catboost import CatBoostRegressor\n",
    "from bayes_opt import BayesianOptimization\n",
    "from sklearn.neighbors import KNeighborsRegressor\n",
    "\n",
    "from sklearn.model_selection import GridSearchCV\n",
    "from sklearn.model_selection import RandomizedSearchCV\n",
    "\n",
    "from sklearn.model_selection import cross_val_score\n",
    "from sklearn.model_selection import StratifiedKFold\n",
    "from sklearn.model_selection import train_test_split\n",
    "\n",
    "from sklearn.model_selection import RepeatedKFold\n",
    "from sklearn.model_selection import RepeatedStratifiedKFold\n",
    "\n",
    "from sklearn.metrics import log_loss\n",
    "from sklearn.metrics import cohen_kappa_score\n",
    "from sklearn.metrics import ConfusionMatrixDisplay"
   ]
  },
  {
   "cell_type": "markdown",
   "id": "76a0509a",
   "metadata": {
    "papermill": {
     "duration": 0.026956,
     "end_time": "2025-01-24T19:06:49.516175",
     "exception": false,
     "start_time": "2025-01-24T19:06:49.489219",
     "status": "completed"
    },
    "tags": []
   },
   "source": [
    "- R-квадрат (R2 или коэффициент детерминации) - это статистический показатель в регрессионной модели, который определяет долю дисперсии зависимой переменной, которая может быть объяснена независимой переменной. Другими словами, r-квадрат показывает, насколько хорошо данные соответствуют регрессионной модели (степень соответствия)."
   ]
  },
  {
   "cell_type": "code",
   "execution_count": 17,
   "id": "0e501b8c",
   "metadata": {
    "execution": {
     "iopub.execute_input": "2025-01-24T19:06:49.572339Z",
     "iopub.status.busy": "2025-01-24T19:06:49.571310Z",
     "iopub.status.idle": "2025-01-24T19:06:51.112352Z",
     "shell.execute_reply": "2025-01-24T19:06:51.111122Z"
    },
    "papermill": {
     "duration": 1.570717,
     "end_time": "2025-01-24T19:06:51.114218",
     "exception": false,
     "start_time": "2025-01-24T19:06:49.543501",
     "status": "completed"
    },
    "tags": []
   },
   "outputs": [
    {
     "name": "stdout",
     "output_type": "stream",
     "text": [
      "\n",
      "r2_score : [0.23734541 0.3165571  0.27619545 0.31719723 0.2186408 ]\n"
     ]
    }
   ],
   "source": [
    "base_model = lgb.LGBMRegressor(random_state=420, verbose=-1)\n",
    "print('\\nr2_score :', cross_val_score(base_model, X ,y ,cv=5, scoring='r2')) "
   ]
  },
  {
   "cell_type": "markdown",
   "id": "72f39e88",
   "metadata": {
    "papermill": {
     "duration": 0.026879,
     "end_time": "2025-01-24T19:06:51.170328",
     "exception": false,
     "start_time": "2025-01-24T19:06:51.143449",
     "status": "completed"
    },
    "tags": []
   },
   "source": [
    "## 🍀 Auxiliary Functions (вспомогательные функции)"
   ]
  },
  {
   "cell_type": "code",
   "execution_count": 18,
   "id": "45f5bee2",
   "metadata": {
    "execution": {
     "iopub.execute_input": "2025-01-24T19:06:51.226959Z",
     "iopub.status.busy": "2025-01-24T19:06:51.226600Z",
     "iopub.status.idle": "2025-01-24T19:06:51.232900Z",
     "shell.execute_reply": "2025-01-24T19:06:51.232016Z"
    },
    "papermill": {
     "duration": 0.036849,
     "end_time": "2025-01-24T19:06:51.234582",
     "exception": false,
     "start_time": "2025-01-24T19:06:51.197733",
     "status": "completed"
    },
    "tags": []
   },
   "outputs": [],
   "source": [
    "# Rounding using thresholds\n",
    "# Raw Predictions: pred_raw\n",
    "# Rounded Predictions: pred\n",
    "# Thresholds: t\n",
    "\n",
    "def round_t(pred_raw, t):\n",
    "    pred = np.where(pred_raw < t[0], 0, np.where(pred_raw < t[1], 1, np.where(pred_raw < t[2], 2, 3)))\n",
    "    return pred\n",
    "\n",
    "def qw_kappa(y_true, pred):\n",
    "    return -cohen_kappa_score(y_true, pred, weights='quadratic')\n",
    "\n",
    "# Thanks to: @ambrosm\n",
    "def fun(t, y_true, pred_raw):\n",
    "    pred = round_t(pred_raw, t)\n",
    "    return -cohen_kappa_score(y_true, pred, weights='quadratic')\n",
    "\n",
    "def optimized_thresholds(fun, y_true, pred_raw):\n",
    "    res = minimize(fun, x0=[0.5, 1.5, 2.5], args=(y_true, pred_raw), method='Nelder-Mead')\n",
    "    assert res.success\n",
    "    return res.x.round(2) # optimized_thresholds\n",
    "\n",
    "t = [0.6, 1.07, 2.52] # Optimized Thresholds (initial)"
   ]
  },
  {
   "cell_type": "markdown",
   "id": "c9ce6230",
   "metadata": {
    "papermill": {
     "duration": 0.026896,
     "end_time": "2025-01-24T19:06:51.289209",
     "exception": false,
     "start_time": "2025-01-24T19:06:51.262313",
     "status": "completed"
    },
    "tags": []
   },
   "source": [
    "## 🍀 Гиперпараметры"
   ]
  },
  {
   "cell_type": "code",
   "execution_count": 19,
   "id": "b9b889f1",
   "metadata": {
    "execution": {
     "iopub.execute_input": "2025-01-24T19:06:51.346030Z",
     "iopub.status.busy": "2025-01-24T19:06:51.345670Z",
     "iopub.status.idle": "2025-01-24T19:06:51.352836Z",
     "shell.execute_reply": "2025-01-24T19:06:51.351991Z"
    },
    "papermill": {
     "duration": 0.037632,
     "end_time": "2025-01-24T19:06:51.354480",
     "exception": false,
     "start_time": "2025-01-24T19:06:51.316848",
     "status": "completed"
    },
    "tags": []
   },
   "outputs": [],
   "source": [
    "# ::::::::::::::::::::::::::::::::::::::::::::::::\n",
    "lgbm_params1 = {  \n",
    "    \n",
    "    'metric'              :'rmse',\n",
    "    'objective'           :'regression',\n",
    "    'learning_rate'       : 0.04,\n",
    "    'max_depth'           : 12,\n",
    "    'num_leaves'          : 59,\n",
    "    'subsample'           : 0.70,\n",
    "    'colsample_bytree'    : 0.50,\n",
    "    'min_child_weight'    : 12, \n",
    "    'min_child_samples'   : 14,    \n",
    "    'reg_alpha'           : 0.23,\n",
    "    'reg_lambda'          : 0.36,\n",
    "}\n",
    "\n",
    "# ::::::::::::::::::::::::::::::::::::::::::::::::\n",
    "lgbm_params2 = {  \n",
    "    \n",
    "    'metric'              :'rmse',\n",
    "    'objective'           :'regression',\n",
    "    'learning_rate'       : 0.05,\n",
    "    'max_depth'           : 9,\n",
    "    'num_leaves'          : 59,\n",
    "    'subsample'           : 0.80,\n",
    "    'colsample_bytree'    : 0.50,\n",
    "    'min_child_weight'    : 12, \n",
    "    'min_child_samples'   : 14,  \n",
    "    'reg_alpha'           : 0.23,\n",
    "    'reg_lambda'          : 0.36,\n",
    "}\n",
    "\n",
    "# ::::::::::::::::::::::::::::::::::::::::::::::::\n",
    "lgbm_params3 = {  \n",
    "    \n",
    "    'metric'              :'rmse',\n",
    "    'objective'           :'regression',\n",
    "    'learning_rate'       : 0.044,\n",
    "    'max_depth'           : 12,\n",
    "    'num_leaves'          : 478,\n",
    "    'min_data_in_leaf'    : 13,\n",
    "    'feature_fraction'    : 0.893,\n",
    "    'bagging_fraction'    : 0.784,\n",
    "    'bagging_freq'        : 4,\n",
    "    'lambda_l1'           : 10, \n",
    "    'lambda_l2'           : 0.01, \n",
    "}\n",
    "\n",
    "# ::::::::::::::::::::::::::::::::::::::::::::::::::::::::::::::::::::::::::::::::::::::::::::::::::::::::::::::::::::::::\n",
    "\n",
    "model1 = lgb.LGBMRegressor(**lgbm_params1, n_estimators=10000, random_state=421, early_stopping_rounds=350, verbose=-1)\n",
    "\n",
    "model2 = lgb.LGBMRegressor(**lgbm_params2, n_estimators=10000, random_state=422, early_stopping_rounds=350, verbose=-1)\n",
    "\n",
    "model3 = lgb.LGBMRegressor(**lgbm_params3, n_estimators=10000, random_state=423, early_stopping_rounds=350, verbose=-1)\n",
    "\n",
    "# ::::::::::::::::::::::::::::::::::::::::::::::::::::::::::::::::::::::::::::::::::::::::::::::::::::::::::::::::::::::::\n",
    "\n",
    "model_list = [model1, model2, model3]\n"
   ]
  },
  {
   "cell_type": "markdown",
   "id": "480711ae",
   "metadata": {
    "papermill": {
     "duration": 0.028316,
     "end_time": "2025-01-24T19:06:51.409652",
     "exception": false,
     "start_time": "2025-01-24T19:06:51.381336",
     "status": "completed"
    },
    "tags": []
   },
   "source": [
    "## 🍀 Кросс-валидация"
   ]
  },
  {
   "cell_type": "code",
   "execution_count": 20,
   "id": "1ba43e50",
   "metadata": {
    "execution": {
     "iopub.execute_input": "2025-01-24T19:06:51.466810Z",
     "iopub.status.busy": "2025-01-24T19:06:51.466181Z",
     "iopub.status.idle": "2025-01-24T19:07:23.378477Z",
     "shell.execute_reply": "2025-01-24T19:07:23.377629Z"
    },
    "papermill": {
     "duration": 31.943395,
     "end_time": "2025-01-24T19:07:23.380450",
     "exception": false,
     "start_time": "2025-01-24T19:06:51.437055",
     "status": "completed"
    },
    "tags": []
   },
   "outputs": [
    {
     "name": "stdout",
     "output_type": "stream",
     "text": [
      "\n",
      ":::::::::::::::::: Fold ~ 1 :::::::::::::::::::\n",
      "LGBMRegressor - 3\n",
      "th_opt = [0.57 1.09 2.63]\n",
      "SCORE: 0.4919\n",
      "\n",
      ":::::::::::::::::: Fold ~ 2 :::::::::::::::::::\n",
      "LGBMRegressor - 3\n",
      "th_opt = [0.59 1.04 2.78]\n",
      "SCORE: 0.4818\n",
      "\n",
      ":::::::::::::::::: Fold ~ 3 :::::::::::::::::::\n",
      "LGBMRegressor - 2\n",
      "th_opt = [0.53 1.48 2.43]\n",
      "SCORE: 0.4313\n",
      "\n",
      ":::::::::::::::::: Fold ~ 4 :::::::::::::::::::\n",
      "LGBMRegressor - 2\n",
      "th_opt = [0.51 1.14 3.29]\n",
      "SCORE: 0.5142\n",
      "\n",
      ":::::::::::::::::: Fold ~ 5 :::::::::::::::::::\n",
      "LGBMRegressor - 3\n",
      "th_opt = [0.56 1.   2.68]\n",
      "SCORE: 0.5106\n",
      "\n",
      ":::::::::::::::::: Fold ~ 6 :::::::::::::::::::\n",
      "LGBMRegressor - 1\n",
      "th_opt = [0.51 1.51 2.45]\n",
      "SCORE: 0.4089\n",
      "\n",
      ":::::::::::::::::: Fold ~ 7 :::::::::::::::::::\n",
      "LGBMRegressor - 3\n",
      "th_opt = [0.55 1.14 2.73]\n",
      "SCORE: 0.5063\n",
      "\n",
      ":::::::::::::::::: Fold ~ 8 :::::::::::::::::::\n",
      "LGBMRegressor - 1\n",
      "th_opt = [0.56 1.05 2.58]\n",
      "SCORE: 0.5128\n",
      "\n",
      ":::::::::::::::::: Fold ~ 9 :::::::::::::::::::\n",
      "LGBMRegressor - 2\n",
      "th_opt = [0.51 1.08 2.83]\n",
      "SCORE: 0.5081\n",
      "\n",
      ":::::::::::::::::: Fold ~ 10 :::::::::::::::::::\n",
      "LGBMRegressor - 3\n",
      "th_opt = [0.58 1.12 2.75]\n",
      "SCORE: 0.4876\n",
      "\n",
      ":::::::::::::::::: Fold ~ 11 :::::::::::::::::::\n",
      "LGBMRegressor - 3\n",
      "th_opt = [0.56 1.1  2.68]\n",
      "SCORE: 0.4986\n",
      "\n",
      ":::::::::::::::::: Fold ~ 12 :::::::::::::::::::\n",
      "LGBMRegressor - 3\n",
      "th_opt = [0.49 0.95 2.88]\n",
      "SCORE: 0.523\n",
      "\n",
      ":::::::::::::::::: Fold ~ 13 :::::::::::::::::::\n",
      "LGBMRegressor - 3\n",
      "th_opt = [0.56 1.07 2.74]\n",
      "SCORE: 0.4824\n",
      "\n",
      ":::::::::::::::::: Fold ~ 14 :::::::::::::::::::\n",
      "LGBMRegressor - 3\n",
      "th_opt = [0.53 1.17 2.71]\n",
      "SCORE: 0.4852\n",
      "\n",
      ":::::::::::::::::: Fold ~ 15 :::::::::::::::::::\n",
      "LGBMRegressor - 2\n",
      "th_opt = [0.52 1.55 2.39]\n",
      "SCORE: 0.4539\n",
      "\n",
      ":::::::::::::::::: Fold ~ 16 :::::::::::::::::::\n",
      "LGBMRegressor - 2\n",
      "th_opt = [0.61 0.94 2.76]\n",
      "SCORE: 0.5256\n",
      "\n",
      ":::::::::::::::::: Fold ~ 17 :::::::::::::::::::\n",
      "LGBMRegressor - 3\n",
      "th_opt = [0.62 0.96 2.78]\n",
      "SCORE: 0.484\n",
      "\n",
      ":::::::::::::::::: Fold ~ 18 :::::::::::::::::::\n",
      "LGBMRegressor - 3\n",
      "th_opt = [0.54 1.14 2.8 ]\n",
      "SCORE: 0.5273\n",
      "\n",
      ":::::::::::::::::: Fold ~ 19 :::::::::::::::::::\n",
      "LGBMRegressor - 3\n",
      "th_opt = [0.46 1.09 2.97]\n",
      "SCORE: 0.5096\n",
      "\n",
      ":::::::::::::::::: Fold ~ 20 :::::::::::::::::::\n",
      "LGBMRegressor - 3\n",
      "th_opt = [0.52 1.24 2.77]\n",
      "SCORE: 0.4691\n",
      "\n",
      ":::::::::::::::::: Fold ~ 21 :::::::::::::::::::\n",
      "LGBMRegressor - 1\n",
      "th_opt = [0.56 1.04 2.75]\n",
      "SCORE: 0.5271\n",
      "\n",
      ":::::::::::::::::: Fold ~ 22 :::::::::::::::::::\n",
      "LGBMRegressor - 1\n",
      "th_opt = [0.49 0.97 2.9 ]\n",
      "SCORE: 0.5186\n",
      "\n",
      ":::::::::::::::::: Fold ~ 23 :::::::::::::::::::\n",
      "LGBMRegressor - 2\n",
      "th_opt = [0.56 0.98 2.64]\n",
      "SCORE: 0.5187\n",
      "\n",
      ":::::::::::::::::: Fold ~ 24 :::::::::::::::::::\n",
      "LGBMRegressor - 3\n",
      "th_opt = [0.56 1.09 2.61]\n",
      "SCORE: 0.5057\n",
      "\n",
      " ========================================\n",
      " . . . . . . . . . . . . . . . . . . . .\n",
      " SCORE(mean): 0.49510221222857237 \n",
      "\n",
      " Optimized thresholds: [0.54 1.12 2.73]\n",
      " . . . . . . . . . . . . . . . . . . . .\n",
      "======================================== \n",
      "\n"
     ]
    }
   ],
   "source": [
    "score_mean = 0\n",
    "th = np.zeros(3)\n",
    "pred = np.zeros(len(XX))\n",
    "rkf = RepeatedKFold(n_splits=3, n_repeats=8, random_state=424)\n",
    "\n",
    "for fold, (train_idx, valid_idx) in enumerate(rkf.split(X)):  \n",
    "    X_train, y_train = X.iloc[train_idx], y.iloc[train_idx]\n",
    "    X_valid, y_valid = X.iloc[valid_idx], y.iloc[valid_idx]  \n",
    "\n",
    "    print(f'\\n:::::::::::::::::: Fold ~ {fold+1} :::::::::::::::::::')\n",
    "    N = random.randrange(4) \n",
    "         \n",
    "    if (N==0):\n",
    "        print('LGBMRegressor - 1')\n",
    "        model1.fit(X_train, y_train,             \n",
    "                  eval_set=[(X_valid, y_valid)])        \n",
    "        oof = model1.predict(X_valid)\n",
    "        prd = model1.predict(XX)\n",
    "        \n",
    "        th_opt = optimized_thresholds(fun, y_valid, oof)\n",
    "        print('th_opt =', th_opt)\n",
    " \n",
    "    if (N==1):\n",
    "        print('LGBMRegressor - 2')\n",
    "        model2.fit(X_train, y_train,             \n",
    "                  eval_set=[(X_valid, y_valid)])      \n",
    "        oof = model2.predict(X_valid)\n",
    "        prd = model2.predict(XX)\n",
    "        \n",
    "        th_opt = optimized_thresholds(fun, y_valid, oof)\n",
    "        print('th_opt =', th_opt)\n",
    " \n",
    "    if (N==2 or N==3):\n",
    "        print('LGBMRegressor - 3')\n",
    "        model3.fit(X_train, y_train,             \n",
    "                  eval_set=[(X_valid, y_valid)])        \n",
    "        oof = model3.predict(X_valid)\n",
    "        prd = model3.predict(XX) \n",
    "        \n",
    "        th_opt = optimized_thresholds(fun, y_valid, oof)\n",
    "        print('th_opt =', th_opt)\n",
    "    \n",
    "    score = cohen_kappa_score(y_valid, round_t(oof, th_opt), weights='quadratic')\n",
    "    print('SCORE:', round(score, 4))\n",
    "    \n",
    "    th += np.array(th_opt)                          \n",
    "    score_mean += score \n",
    "    pred += prd\n",
    "    \n",
    "score_mean = score_mean / rkf.get_n_splits(X, y)   \n",
    "t = np.round(th / rkf.get_n_splits(X, y), 2)\n",
    "preds_lgbm_raw = pred / rkf.get_n_splits(X, y)\n",
    "preds_lgbm = round_t(preds_lgbm_raw, t)\n",
    "\n",
    "print('\\n', '='* 40)\n",
    "print(' .'* 20)\n",
    "print(' SCORE(mean):', score_mean, '\\n')\n",
    "print(' Optimized thresholds:', t)\n",
    "print(' .'* 20)\n",
    "print('='* 40, '\\n')"
   ]
  },
  {
   "cell_type": "markdown",
   "id": "60448353",
   "metadata": {
    "papermill": {
     "duration": 0.029066,
     "end_time": "2025-01-24T19:07:23.441710",
     "exception": false,
     "start_time": "2025-01-24T19:07:23.412644",
     "status": "completed"
    },
    "tags": []
   },
   "source": [
    "## 🍀 Саббмит - LGBM"
   ]
  },
  {
   "cell_type": "code",
   "execution_count": 21,
   "id": "b0f47818",
   "metadata": {
    "execution": {
     "iopub.execute_input": "2025-01-24T19:07:23.501069Z",
     "iopub.status.busy": "2025-01-24T19:07:23.500716Z",
     "iopub.status.idle": "2025-01-24T19:07:24.563140Z",
     "shell.execute_reply": "2025-01-24T19:07:24.561893Z"
    },
    "papermill": {
     "duration": 1.094431,
     "end_time": "2025-01-24T19:07:24.565426",
     "exception": false,
     "start_time": "2025-01-24T19:07:23.470995",
     "status": "completed"
    },
    "tags": []
   },
   "outputs": [
    {
     "name": "stdout",
     "output_type": "stream",
     "text": [
      "[1 0 0 0 1 1 1 1 0 1 1 0 1 0 1 1 0 0 0 0]\n",
      "__notebook__.ipynb  submission0.csv\r\n"
     ]
    }
   ],
   "source": [
    "sub_lgbm = sub_sample.copy()\n",
    "sub_lgbm['sii'] = preds_lgbm\n",
    "\n",
    "# ..............................................\n",
    "sub_lgbm.to_csv('submission0.csv', index=False)\n",
    "# Public Score : 0.452\n",
    "print(preds_lgbm)\n",
    "!ls"
   ]
  },
  {
   "cell_type": "markdown",
   "id": "364219e5",
   "metadata": {
    "papermill": {
     "duration": 0.02768,
     "end_time": "2025-01-24T19:07:24.622115",
     "exception": false,
     "start_time": "2025-01-24T19:07:24.594435",
     "status": "completed"
    },
    "tags": []
   },
   "source": [
    "<p style=\"border-bottom: 50px solid lightgreen\"></p>\n",
    "\n",
    "<p style=\"border-bottom: 15px solid darkcyan\"></p>\n",
    "\n",
    "## <div style=\"color:yellow;display:inline-block;border-radius:5px;background-color:darkcyan;font-block:Nexa;overflow:hidden\"><p style=\"padding:15px;color:white;overflow:hidden;font-size:85%;letter-spacing:0.5px;margin:0\"><b> </b>၊၊||၊ Notebook imported - 1</p></div>\n",
    "\n",
    "### [Multi-Target Prediction](https://www.kaggle.com/code/tubotubo/starter-notebook-multi-target-prediction?scriptVersionId=197456007)\n",
    "\n"
   ]
  },
  {
   "cell_type": "code",
   "execution_count": 22,
   "id": "1e387034",
   "metadata": {
    "execution": {
     "iopub.execute_input": "2025-01-24T19:07:24.683492Z",
     "iopub.status.busy": "2025-01-24T19:07:24.683087Z",
     "iopub.status.idle": "2025-01-24T19:07:24.698500Z",
     "shell.execute_reply": "2025-01-24T19:07:24.697880Z"
    },
    "papermill": {
     "duration": 0.048821,
     "end_time": "2025-01-24T19:07:24.700101",
     "exception": false,
     "start_time": "2025-01-24T19:07:24.651280",
     "status": "completed"
    },
    "tags": []
   },
   "outputs": [],
   "source": [
    "import warnings\n",
    "from functools import partial\n",
    "from pathlib import Path\n",
    "\n",
    "import matplotlib.pyplot as plt\n",
    "import numpy as np\n",
    "import optuna\n",
    "import polars as pl\n",
    "import polars.selectors as cs\n",
    "from catboost import CatBoostRegressor, MultiTargetCustomMetric\n",
    "from numpy.typing import ArrayLike, NDArray\n",
    "from polars.testing import assert_frame_equal\n",
    "from sklearn.base import BaseEstimator\n",
    "from sklearn.metrics import cohen_kappa_score\n",
    "from sklearn.model_selection import StratifiedKFold\n",
    "\n",
    "warnings.filterwarnings(\"ignore\", message=\"Failed to optimize method\")\n",
    "\n",
    "DATA_DIR = Path(\"/kaggle/input/child-mind-institute-problematic-internet-use\")\n",
    "TARGET_COLS = [\n",
    "    \"PCIAT-PCIAT_01\",\n",
    "    \"PCIAT-PCIAT_02\",\n",
    "    \"PCIAT-PCIAT_03\",\n",
    "    \"PCIAT-PCIAT_04\",\n",
    "    \"PCIAT-PCIAT_05\",\n",
    "    \"PCIAT-PCIAT_06\",\n",
    "    \"PCIAT-PCIAT_07\",\n",
    "    \"PCIAT-PCIAT_08\",\n",
    "    \"PCIAT-PCIAT_09\",\n",
    "    \"PCIAT-PCIAT_10\",\n",
    "    \"PCIAT-PCIAT_11\",\n",
    "    \"PCIAT-PCIAT_12\",\n",
    "    \"PCIAT-PCIAT_13\",\n",
    "    \"PCIAT-PCIAT_14\",\n",
    "    \"PCIAT-PCIAT_15\",\n",
    "    \"PCIAT-PCIAT_16\",\n",
    "    \"PCIAT-PCIAT_17\",\n",
    "    \"PCIAT-PCIAT_18\",\n",
    "    \"PCIAT-PCIAT_19\",\n",
    "    \"PCIAT-PCIAT_20\",\n",
    "    \"PCIAT-PCIAT_Total\",\n",
    "    \"sii\",\n",
    "]\n",
    "\n",
    "FEATURE_COLS = [\n",
    "    \"Basic_Demos-Enroll_Season\",\n",
    "    \"Basic_Demos-Age\",\n",
    "    \"Basic_Demos-Sex\",\n",
    "    \"CGAS-Season\",\n",
    "    \"CGAS-CGAS_Score\",\n",
    "    \"Physical-Season\",\n",
    "    \"Physical-BMI\",\n",
    "    \"Physical-Height\",\n",
    "    \"Physical-Weight\",\n",
    "    \"Physical-Waist_Circumference\",\n",
    "    \"Physical-Diastolic_BP\",\n",
    "    \"Physical-HeartRate\",\n",
    "    \"Physical-Systolic_BP\",\n",
    "    \"Fitness_Endurance-Season\",\n",
    "    \"Fitness_Endurance-Max_Stage\",\n",
    "    \"Fitness_Endurance-Time_Mins\",\n",
    "    \"Fitness_Endurance-Time_Sec\",\n",
    "    \"FGC-Season\",\n",
    "    \"FGC-FGC_CU\",\n",
    "    \"FGC-FGC_CU_Zone\",\n",
    "    \"FGC-FGC_GSND\",\n",
    "    \"FGC-FGC_GSND_Zone\",\n",
    "    \"FGC-FGC_GSD\",\n",
    "    \"FGC-FGC_GSD_Zone\",\n",
    "    \"FGC-FGC_PU\",\n",
    "    \"FGC-FGC_PU_Zone\",\n",
    "    \"FGC-FGC_SRL\",\n",
    "    \"FGC-FGC_SRL_Zone\",\n",
    "    \"FGC-FGC_SRR\",\n",
    "    \"FGC-FGC_SRR_Zone\",\n",
    "    \"FGC-FGC_TL\",\n",
    "    \"FGC-FGC_TL_Zone\",\n",
    "    \"BIA-Season\",\n",
    "    \"BIA-BIA_Activity_Level_num\",\n",
    "    \"BIA-BIA_BMC\",\n",
    "    \"BIA-BIA_BMI\",\n",
    "    \"BIA-BIA_BMR\",\n",
    "    \"BIA-BIA_DEE\",\n",
    "    \"BIA-BIA_ECW\",\n",
    "    \"BIA-BIA_FFM\",\n",
    "    \"BIA-BIA_FFMI\",\n",
    "    \"BIA-BIA_FMI\",\n",
    "    \"BIA-BIA_Fat\",\n",
    "    \"BIA-BIA_Frame_num\",\n",
    "    \"BIA-BIA_ICW\",\n",
    "    \"BIA-BIA_LDM\",\n",
    "    \"BIA-BIA_LST\",\n",
    "    \"BIA-BIA_SMM\",\n",
    "    \"BIA-BIA_TBW\",\n",
    "    \"PAQ_A-Season\",\n",
    "    \"PAQ_A-PAQ_A_Total\",\n",
    "    \"PAQ_C-Season\",\n",
    "    \"PAQ_C-PAQ_C_Total\",\n",
    "    \"SDS-Season\",\n",
    "    \"SDS-SDS_Total_Raw\",\n",
    "    \"SDS-SDS_Total_T\",\n",
    "    \"PreInt_EduHx-Season\",\n",
    "    \"PreInt_EduHx-computerinternet_hoursday\",\n",
    "]"
   ]
  },
  {
   "cell_type": "code",
   "execution_count": 23,
   "id": "f402459d",
   "metadata": {
    "execution": {
     "iopub.execute_input": "2025-01-24T19:07:24.759569Z",
     "iopub.status.busy": "2025-01-24T19:07:24.759226Z",
     "iopub.status.idle": "2025-01-24T19:07:24.969372Z",
     "shell.execute_reply": "2025-01-24T19:07:24.968620Z"
    },
    "papermill": {
     "duration": 0.242637,
     "end_time": "2025-01-24T19:07:24.971421",
     "exception": false,
     "start_time": "2025-01-24T19:07:24.728784",
     "status": "completed"
    },
    "tags": []
   },
   "outputs": [],
   "source": [
    "# Load data\n",
    "train = pl.read_csv(DATA_DIR / \"train.csv\")\n",
    "test = pl.read_csv(DATA_DIR / \"test.csv\")\n",
    "train_test = pl.concat([train, test], how=\"diagonal\")\n",
    "\n",
    "IS_TEST = test.height <= 100\n",
    "\n",
    "assert_frame_equal(train, train_test[: train.height].select(train.columns))\n",
    "assert_frame_equal(test, train_test[train.height :].select(test.columns))\n",
    "\n",
    "# ....................................................................................\n",
    "# Cast string columns to categorical\n",
    "train_test = train_test.with_columns(cs.string().cast(pl.Categorical).fill_null(\"NAN\"))\n",
    "train = train_test[: train.height]\n",
    "test = train_test[train.height :]\n",
    "\n",
    "# ignore rows with null values in TARGET_COLS\n",
    "train_without_null = train_test.drop_nulls(subset=TARGET_COLS)\n",
    "X = train_without_null.select(FEATURE_COLS)\n",
    "X_test = test.select(FEATURE_COLS)\n",
    "y = train_without_null.select(TARGET_COLS)\n",
    "y_sii = y.get_column(\"sii\").to_numpy()  # ground truth\n",
    "cat_features = X.select(cs.categorical()).columns"
   ]
  },
  {
   "cell_type": "code",
   "execution_count": 24,
   "id": "55d16b54",
   "metadata": {
    "execution": {
     "iopub.execute_input": "2025-01-24T19:07:25.030023Z",
     "iopub.status.busy": "2025-01-24T19:07:25.029677Z",
     "iopub.status.idle": "2025-01-24T19:07:25.042332Z",
     "shell.execute_reply": "2025-01-24T19:07:25.041625Z"
    },
    "papermill": {
     "duration": 0.043649,
     "end_time": "2025-01-24T19:07:25.043966",
     "exception": false,
     "start_time": "2025-01-24T19:07:25.000317",
     "status": "completed"
    },
    "tags": []
   },
   "outputs": [],
   "source": [
    "class MultiTargetQWK(MultiTargetCustomMetric):\n",
    "    def get_final_error(self, error, weight):\n",
    "        return np.sum(error)  # / np.sum(weight)\n",
    "\n",
    "    def is_max_optimal(self):\n",
    "        # if True, the bigger the better\n",
    "        return True\n",
    "\n",
    "    def evaluate(self, approxes, targets, weight):\n",
    "        # approxes: 予測値 (shape: [ターゲット数, サンプル数])\n",
    "        # targets: 実際の値 (shape: [ターゲット数, サンプル数])\n",
    "        # weight: サンプルごとの重み (Noneも可)\n",
    "\n",
    "        approx = np.clip(approxes[-1], 0, 3).round().astype(int)\n",
    "        target = targets[-1]\n",
    "\n",
    "        qwk = cohen_kappa_score(target, approx, weights=\"quadratic\")\n",
    "\n",
    "        return qwk, 1\n",
    "\n",
    "    def get_custom_metric_name(self):\n",
    "        return \"MultiTargetQWK\"\n",
    "\n",
    "\n",
    "class OptimizedRounder:\n",
    "    \"\"\"\n",
    "    A class for optimizing the rounding of continuous predictions into discrete class labels using Optuna.\n",
    "    The optimization process maximizes the Quadratic Weighted Kappa score by learning thresholds that separate\n",
    "    continuous predictions into class intervals.\n",
    "\n",
    "    Args:\n",
    "        n_classes (int): The number of discrete class labels.\n",
    "        n_trials (int, optional): The number of trials for the Optuna optimization. Defaults to 100.\n",
    "\n",
    "    Attributes:\n",
    "        n_classes (int): The number of discrete class labels.\n",
    "        labels (NDArray[np.int_]): An array of class labels from 0 to `n_classes - 1`.\n",
    "        n_trials (int): The number of optimization trials.\n",
    "        metric (Callable): The Quadratic Weighted Kappa score metric used for optimization.\n",
    "        thresholds (List[float]): The optimized thresholds learned after calling `fit()`.\n",
    "\n",
    "    Methods:\n",
    "        fit(y_pred: NDArray[np.float_], y_true: NDArray[np.int_]) -> None:\n",
    "            Fits the rounding thresholds based on continuous predictions and ground truth labels.\n",
    "\n",
    "            Args:\n",
    "                y_pred (NDArray[np.float_]): Continuous predictions that need to be rounded.\n",
    "                y_true (NDArray[np.int_]): Ground truth class labels.\n",
    "\n",
    "            Returns:\n",
    "                None\n",
    "\n",
    "        predict(y_pred: NDArray[np.float_]) -> NDArray[np.int_]:\n",
    "            Predicts discrete class labels by rounding continuous predictions using the fitted thresholds.\n",
    "            `fit()` must be called before `predict()`.\n",
    "\n",
    "            Args:\n",
    "                y_pred (NDArray[np.float_]): Continuous predictions to be rounded.\n",
    "\n",
    "            Returns:\n",
    "                NDArray[np.int_]: Predicted class labels.\n",
    "\n",
    "        _normalize(y: NDArray[np.float_]) -> NDArray[np.float_]:\n",
    "            Normalizes the continuous values to the range [0, `n_classes - 1`].\n",
    "\n",
    "            Args:\n",
    "                y (NDArray[np.float_]): Continuous values to be normalized.\n",
    "\n",
    "            Returns:\n",
    "                NDArray[np.float_]: Normalized values.\n",
    "\n",
    "    References:\n",
    "        - This implementation uses Optuna for threshold optimization.\n",
    "        - Quadratic Weighted Kappa is used as the evaluation metric.\n",
    "    \"\"\"\n",
    "\n",
    "    def __init__(self, n_classes: int, n_trials: int = 100):\n",
    "        self.n_classes = n_classes\n",
    "        self.labels = np.arange(n_classes)\n",
    "        self.n_trials = n_trials\n",
    "        self.metric = partial(cohen_kappa_score, weights=\"quadratic\")\n",
    "\n",
    "    def fit(self, y_pred: NDArray[np.float_], y_true: NDArray[np.int_]) -> None:\n",
    "        y_pred = self._normalize(y_pred)\n",
    "\n",
    "        def objective(trial: optuna.Trial) -> float:\n",
    "            thresholds = []\n",
    "            for i in range(self.n_classes - 1):\n",
    "                low = max(thresholds) if i > 0 else min(self.labels)\n",
    "                high = max(self.labels)\n",
    "                th = trial.suggest_float(f\"threshold_{i}\", low, high)\n",
    "                thresholds.append(th)\n",
    "            try:\n",
    "                y_pred_rounded = np.digitize(y_pred, thresholds)\n",
    "            except ValueError:\n",
    "                return -100\n",
    "            return self.metric(y_true, y_pred_rounded)\n",
    "\n",
    "        optuna.logging.disable_default_handler()\n",
    "        study = optuna.create_study(direction=\"maximize\")\n",
    "        study.optimize(\n",
    "            objective,\n",
    "            n_trials=self.n_trials,\n",
    "        )\n",
    "        self.thresholds = [study.best_params[f\"threshold_{i}\"] for i in range(self.n_classes - 1)]\n",
    "\n",
    "    def predict(self, y_pred: NDArray[np.float_]) -> NDArray[np.int_]:\n",
    "        assert hasattr(self, \"thresholds\"), \"fit() must be called before predict()\"\n",
    "        y_pred = self._normalize(y_pred)\n",
    "        return np.digitize(y_pred, self.thresholds)\n",
    "\n",
    "    def _normalize(self, y: NDArray[np.float_]) -> NDArray[np.float_]:\n",
    "        # normalize y_pred to [0, n_classes - 1]\n",
    "        return (y - y.min()) / (y.max() - y.min()) * (self.n_classes - 1)"
   ]
  },
  {
   "cell_type": "code",
   "execution_count": 25,
   "id": "9ef9c78c",
   "metadata": {
    "execution": {
     "iopub.execute_input": "2025-01-24T19:07:25.102437Z",
     "iopub.status.busy": "2025-01-24T19:07:25.102086Z",
     "iopub.status.idle": "2025-01-24T19:07:32.816656Z",
     "shell.execute_reply": "2025-01-24T19:07:32.815569Z"
    },
    "papermill": {
     "duration": 7.746105,
     "end_time": "2025-01-24T19:07:32.818676",
     "exception": false,
     "start_time": "2025-01-24T19:07:25.072571",
     "status": "completed"
    },
    "tags": []
   },
   "outputs": [
    {
     "name": "stdout",
     "output_type": "stream",
     "text": [
      "Cross-Validated QWK Score: 0.38920729750397276\n"
     ]
    }
   ],
   "source": [
    "# setting catboost parameters\n",
    "params = dict(\n",
    "    loss_function=\"MultiRMSE\",\n",
    "    eval_metric=MultiTargetQWK(),\n",
    "    iterations=1 if IS_TEST else 100000,\n",
    "    learning_rate=0.1,\n",
    "    depth=5,\n",
    "    early_stopping_rounds=50,\n",
    ")\n",
    "\n",
    "# Cross-validation\n",
    "skf = StratifiedKFold(n_splits=5, shuffle=True, random_state=52)\n",
    "models: list[CatBoostRegressor] = []\n",
    "y_pred = np.full((X.height, len(TARGET_COLS)), fill_value=np.nan)\n",
    "for train_idx, val_idx in skf.split(X, y_sii):\n",
    "    X_train: pl.DataFrame\n",
    "    X_val: pl.DataFrame\n",
    "    y_train: pl.DataFrame\n",
    "    y_val: pl.DataFrame\n",
    "    X_train, X_val = X[train_idx], X[val_idx]\n",
    "    y_train, y_val = y[train_idx], y[val_idx]\n",
    "\n",
    "    # train model\n",
    "    model = CatBoostRegressor(**params)\n",
    "    model.fit(\n",
    "        X_train.to_pandas(),\n",
    "        y_train.to_pandas(),\n",
    "        eval_set=(X_val.to_pandas(), y_val.to_pandas()),\n",
    "        cat_features=cat_features,\n",
    "        verbose=False,\n",
    "    )\n",
    "    models.append(model)\n",
    "\n",
    "    # predict\n",
    "    y_pred[val_idx] = model.predict(X_val.to_pandas())\n",
    "\n",
    "assert np.isnan(y_pred).sum() == 0\n",
    "# Optimize thresholds\n",
    "optimizer = OptimizedRounder(n_classes=4, n_trials=300)\n",
    "y_pred_total = y_pred[:, TARGET_COLS.index(\"PCIAT-PCIAT_Total\")]\n",
    "optimizer.fit(y_pred_total, y_sii)\n",
    "y_pred_rounded = optimizer.predict(y_pred_total)\n",
    "\n",
    "# Calculate QWK\n",
    "qwk = cohen_kappa_score(y_sii, y_pred_rounded, weights=\"quadratic\")\n",
    "print(f\"Cross-Validated QWK Score: {qwk}\")"
   ]
  },
  {
   "cell_type": "code",
   "execution_count": 26,
   "id": "772ce692",
   "metadata": {
    "execution": {
     "iopub.execute_input": "2025-01-24T19:07:32.878244Z",
     "iopub.status.busy": "2025-01-24T19:07:32.877566Z",
     "iopub.status.idle": "2025-01-24T19:07:33.924742Z",
     "shell.execute_reply": "2025-01-24T19:07:33.923842Z"
    },
    "papermill": {
     "duration": 1.07857,
     "end_time": "2025-01-24T19:07:33.926906",
     "exception": false,
     "start_time": "2025-01-24T19:07:32.848336",
     "status": "completed"
    },
    "tags": []
   },
   "outputs": [
    {
     "name": "stdout",
     "output_type": "stream",
     "text": [
      "[0 0 2 0 1 2 2 1 3 1 1 1 3 1 3 1 0 1 0 2]\n",
      "__notebook__.ipynb  catboost_info  submission0.csv  submission1.csv\r\n"
     ]
    }
   ],
   "source": [
    "class AvgModel:\n",
    "    def __init__(self, models: list[BaseEstimator]):\n",
    "        self.models = models\n",
    "\n",
    "    def predict(self, X: ArrayLike) -> NDArray[np.int_]:\n",
    "        preds: list[NDArray[np.int_]] = []\n",
    "        for model in self.models:\n",
    "            pred = model.predict(X)\n",
    "            preds.append(pred)\n",
    "\n",
    "        return np.mean(preds, axis=0)\n",
    "\n",
    "# ...............................................................................................\n",
    "avg_model = AvgModel(models)\n",
    "test_pred = avg_model.predict(X_test.to_pandas())[:, TARGET_COLS.index(\"PCIAT-PCIAT_Total\")]\n",
    "test_pred_rounded = optimizer.predict(test_pred)\n",
    "test.select(\"id\").with_columns(\n",
    "    pl.Series(\"sii\", pl.Series(\"sii\", test_pred_rounded)),\n",
    ").write_csv(\"submission1.csv\")\n",
    "\n",
    "# Public Score : 0.440\n",
    "print(test_pred_rounded)\n",
    "!ls"
   ]
  },
  {
   "cell_type": "markdown",
   "id": "16de0a6e",
   "metadata": {
    "papermill": {
     "duration": 0.028111,
     "end_time": "2025-01-24T19:07:33.984250",
     "exception": false,
     "start_time": "2025-01-24T19:07:33.956139",
     "status": "completed"
    },
    "tags": []
   },
   "source": [
    "<p style=\"border-bottom: 50px solid lightgreen\"></p>\n",
    "\n",
    "<p style=\"border-bottom: 15px solid darkcyan\"></p>\n",
    "\n",
    "## <div style=\"color:yellow;display:inline-block;border-radius:5px;background-color:darkcyan;font-block:Nexa;overflow:hidden\"><p style=\"padding:15px;color:white;overflow:hidden;font-size:85%;letter-spacing:0.5px;margin:0\"><b> </b>၊၊||၊ Notebook imported - 2</p></div>\n",
    "\n",
    "### [CMI - Detecting Problematic Digital Behavior](https://www.kaggle.com/code/lennarthaupts/cmi-detecting-problematic-digital-behavior)\n",
    "\n",
    "- Thanks to : @lennarthaupts"
   ]
  },
  {
   "cell_type": "code",
   "execution_count": 27,
   "id": "875b349b",
   "metadata": {
    "execution": {
     "iopub.execute_input": "2025-01-24T19:07:34.042856Z",
     "iopub.status.busy": "2025-01-24T19:07:34.042486Z",
     "iopub.status.idle": "2025-01-24T19:07:34.111409Z",
     "shell.execute_reply": "2025-01-24T19:07:34.110642Z"
    },
    "papermill": {
     "duration": 0.100607,
     "end_time": "2025-01-24T19:07:34.113674",
     "exception": false,
     "start_time": "2025-01-24T19:07:34.013067",
     "status": "completed"
    },
    "tags": []
   },
   "outputs": [],
   "source": [
    "import numpy as np\n",
    "import pandas as pd\n",
    "import os\n",
    "from sklearn.base import clone\n",
    "from sklearn.metrics import cohen_kappa_score, make_scorer, confusion_matrix\n",
    "from sklearn.model_selection import StratifiedKFold, KFold\n",
    "from scipy.optimize import minimize\n",
    "from scipy import stats\n",
    "from concurrent.futures import ThreadPoolExecutor\n",
    "from tqdm import tqdm\n",
    "from sklearn.feature_selection import RFECV\n",
    "from sklearn.linear_model import ElasticNetCV, LassoCV, Lasso\n",
    "import warnings\n",
    "from lightgbm import LGBMRegressor\n",
    "from xgboost import XGBRegressor\n",
    "from catboost import CatBoostRegressor\n",
    "import optuna\n",
    "import matplotlib.pyplot as plt\n",
    "import seaborn as sns\n",
    "\n",
    "warnings.filterwarnings('ignore')\n",
    "\n",
    "# ......................................................................................................\n",
    "SEED = 42\n",
    "n_splits = 10\n",
    "optimize_params = False\n",
    "n_trials = 25 # n_trials for optuna \n",
    "base_thresholds = [30, 50, 80]\n",
    "y_model = \"PCIAT-PCIAT_Total\" # Score, target for the model\n",
    "y_comp = \"sii\" # Index, target of the competition\n",
    "\n",
    "# ......................................................................................................\n",
    "# Load datasets\n",
    "train = pd.read_csv('/kaggle/input/child-mind-institute-problematic-internet-use/train.csv')\n",
    "test = pd.read_csv('/kaggle/input/child-mind-institute-problematic-internet-use/test.csv')\n"
   ]
  },
  {
   "cell_type": "code",
   "execution_count": 28,
   "id": "ce8ced21",
   "metadata": {
    "execution": {
     "iopub.execute_input": "2025-01-24T19:07:34.174957Z",
     "iopub.status.busy": "2025-01-24T19:07:34.174364Z",
     "iopub.status.idle": "2025-01-24T19:07:34.184643Z",
     "shell.execute_reply": "2025-01-24T19:07:34.183801Z"
    },
    "papermill": {
     "duration": 0.041739,
     "end_time": "2025-01-24T19:07:34.186197",
     "exception": false,
     "start_time": "2025-01-24T19:07:34.144458",
     "status": "completed"
    },
    "tags": []
   },
   "outputs": [],
   "source": [
    "def time_features(df):\n",
    "    # Convert time_of_day to hours\n",
    "    df[\"hours\"] = df[\"time_of_day\"] // (3_600 * 1_000_000_000)\n",
    "    # Basic features \n",
    "    features = [\n",
    "        df[\"non-wear_flag\"].mean(),\n",
    "        df[\"enmo\"][df[\"enmo\"] >= 0.05].sum(),\n",
    "    ]\n",
    "    \n",
    "    # Define conditions for night, day, and no mask (full data)\n",
    "    night = ((df[\"hours\"] >= 22) | (df[\"hours\"] <= 5))\n",
    "    day = ((df[\"hours\"] <= 20) & (df[\"hours\"] >= 7))\n",
    "    no_mask = np.ones(len(df), dtype=bool)\n",
    "    \n",
    "    # List of columns of interest and masks\n",
    "    keys = [\"enmo\", \"anglez\", \"light\", \"battery_voltage\"]\n",
    "    masks = [no_mask, night, day]\n",
    "    \n",
    "    # Helper function for feature extraction\n",
    "    def extract_stats(data):\n",
    "        return [\n",
    "            data.mean(), \n",
    "            data.std(), \n",
    "            data.max(), \n",
    "            data.min(), \n",
    "            data.diff().mean(), \n",
    "            data.diff().std()\n",
    "        ]\n",
    "    \n",
    "    # Iterate over keys and masks to generate the statistics\n",
    "    for key in keys:\n",
    "        for mask in masks:\n",
    "            filtered_data = df.loc[mask, key]\n",
    "            features.extend(extract_stats(filtered_data))\n",
    "\n",
    "    return features\n",
    "\n",
    "# Code for parallelized computation of time series data from: Sheikh Muhammad Abdullah \n",
    "# https://www.kaggle.com/code/abdmental01/cmi-best-single-model\n",
    "def process_file(filename, dirname):\n",
    "    # Process file and extract time features\n",
    "    df = pd.read_parquet(os.path.join(dirname, filename, 'part-0.parquet'))\n",
    "    df.drop('step', axis=1, inplace=True)\n",
    "    return time_features(df), filename.split('=')[1]\n",
    "\n",
    "def load_time_series(dirname) -> pd.DataFrame:\n",
    "    # Load time series from directory in parallel\n",
    "    ids = os.listdir(dirname)\n",
    "    \n",
    "    with ThreadPoolExecutor() as executor:\n",
    "        results = list(tqdm(executor.map(lambda fname: process_file(fname, dirname), ids), total=len(ids)))\n",
    "    \n",
    "    stats, indexes = zip(*results)\n",
    "    \n",
    "    df = pd.DataFrame(stats, columns=[f\"stat_{i}\" for i in range(len(stats[0]))])\n",
    "    df['id'] = indexes\n",
    "    \n",
    "    return df"
   ]
  },
  {
   "cell_type": "code",
   "execution_count": 29,
   "id": "9aca5d68",
   "metadata": {
    "execution": {
     "iopub.execute_input": "2025-01-24T19:07:34.248671Z",
     "iopub.status.busy": "2025-01-24T19:07:34.248036Z",
     "iopub.status.idle": "2025-01-24T19:08:48.078133Z",
     "shell.execute_reply": "2025-01-24T19:08:48.077231Z"
    },
    "papermill": {
     "duration": 73.865196,
     "end_time": "2025-01-24T19:08:48.079919",
     "exception": false,
     "start_time": "2025-01-24T19:07:34.214723",
     "status": "completed"
    },
    "tags": []
   },
   "outputs": [
    {
     "name": "stderr",
     "output_type": "stream",
     "text": [
      "100%|██████████| 996/996 [01:13<00:00, 13.53it/s]\n",
      "100%|██████████| 2/2 [00:00<00:00, 12.36it/s]\n"
     ]
    },
    {
     "data": {
      "text/plain": [
       "(2736, 155)"
      ]
     },
     "execution_count": 29,
     "metadata": {},
     "output_type": "execute_result"
    }
   ],
   "source": [
    "train_ts = load_time_series(\"/kaggle/input/child-mind-institute-problematic-internet-use/series_train.parquet\")\n",
    "test_ts = load_time_series(\"/kaggle/input/child-mind-institute-problematic-internet-use/series_test.parquet\")\n",
    "\n",
    "time_series_cols = train_ts.columns.tolist()\n",
    "\n",
    "time_series_cols = train_ts.columns.tolist()\n",
    "time_series_cols.remove(\"id\")\n",
    "\n",
    "train = pd.merge(train, train_ts, how=\"left\", on='id')\n",
    "test = pd.merge(test, test_ts, how=\"left\", on='id')\n",
    "\n",
    "train = train.drop('id', axis=1)\n",
    "test = test.drop('id', axis=1)\n",
    "\n",
    "train = train[train[y_comp].notna()] # Keep rows where target is available\n",
    "train.shape"
   ]
  },
  {
   "cell_type": "code",
   "execution_count": 30,
   "id": "20752e22",
   "metadata": {
    "execution": {
     "iopub.execute_input": "2025-01-24T19:08:48.176274Z",
     "iopub.status.busy": "2025-01-24T19:08:48.175599Z",
     "iopub.status.idle": "2025-01-24T19:08:48.197614Z",
     "shell.execute_reply": "2025-01-24T19:08:48.196975Z"
    },
    "papermill": {
     "duration": 0.072861,
     "end_time": "2025-01-24T19:08:48.199139",
     "exception": false,
     "start_time": "2025-01-24T19:08:48.126278",
     "status": "completed"
    },
    "tags": []
   },
   "outputs": [],
   "source": [
    "# Features to exclude, because they're not in test\n",
    "exclude = ['PCIAT-Season', 'PCIAT-PCIAT_01', 'PCIAT-PCIAT_02', 'PCIAT-PCIAT_03',\n",
    "           'PCIAT-PCIAT_04', 'PCIAT-PCIAT_05', 'PCIAT-PCIAT_06', 'PCIAT-PCIAT_07',\n",
    "           'PCIAT-PCIAT_08', 'PCIAT-PCIAT_09', 'PCIAT-PCIAT_10', 'PCIAT-PCIAT_11',\n",
    "           'PCIAT-PCIAT_12', 'PCIAT-PCIAT_13', 'PCIAT-PCIAT_14', 'PCIAT-PCIAT_15',\n",
    "           'PCIAT-PCIAT_16', 'PCIAT-PCIAT_17', 'PCIAT-PCIAT_18', 'PCIAT-PCIAT_19',\n",
    "           'PCIAT-PCIAT_20', 'PCIAT-PCIAT_Total', 'sii']\n",
    "\n",
    "features = [f for f in train.columns if f not in exclude]\n",
    "\n",
    "# Categorical features\n",
    "cat_c = ['Basic_Demos-Enroll_Season', 'CGAS-Season', 'Physical-Season', 'Fitness_Endurance-Season', \n",
    "          'FGC-Season', 'BIA-Season', 'PAQ_A-Season', 'PAQ_C-Season', 'SDS-Season', 'PreInt_EduHx-Season']\n",
    "\n",
    "for col in cat_c:\n",
    "    a_map = {}\n",
    "    all_unique = set(train[col].unique()) | set(test[col].unique())\n",
    "    for i, value in enumerate(all_unique):\n",
    "        a_map[value] = i\n",
    "\n",
    "    train[col] = train[col].map(a_map)\n",
    "    test[col] = test[col].map(a_map)"
   ]
  },
  {
   "cell_type": "code",
   "execution_count": 31,
   "id": "a10204c7",
   "metadata": {
    "execution": {
     "iopub.execute_input": "2025-01-24T19:08:48.293179Z",
     "iopub.status.busy": "2025-01-24T19:08:48.292454Z",
     "iopub.status.idle": "2025-01-24T19:08:48.304515Z",
     "shell.execute_reply": "2025-01-24T19:08:48.303765Z"
    },
    "papermill": {
     "duration": 0.061212,
     "end_time": "2025-01-24T19:08:48.306565",
     "exception": false,
     "start_time": "2025-01-24T19:08:48.245353",
     "status": "completed"
    },
    "tags": []
   },
   "outputs": [],
   "source": [
    "class Impute_With_Model:\n",
    "    \n",
    "    def __init__(self, na_frac=0.5, min_samples=0):\n",
    "        self.model_dict = {}\n",
    "        self.mean_dict = {}\n",
    "        self.features = None\n",
    "        self.na_frac = na_frac\n",
    "        self.min_samples = min_samples\n",
    "        \n",
    "    def find_features(self, data, feature, tmp_features):\n",
    "        missing_rows = data[feature].isna()\n",
    "        na_fraction = data[missing_rows][tmp_features].isna().mean(axis=0)\n",
    "        valid_features = np.array(tmp_features)[na_fraction <= self.na_frac]\n",
    "        return valid_features\n",
    "\n",
    "    def fit_models(self, model, data, features):\n",
    "        self.features = features\n",
    "        n_data = data.shape[0]\n",
    "        for feature in features:\n",
    "            self.mean_dict[feature] = np.mean(data[feature])\n",
    "        for feature in tqdm(features):\n",
    "            if data[feature].isna().sum() > 0:\n",
    "                model_clone = clone(model)\n",
    "                X = data[data[feature].notna()].copy()\n",
    "                tmp_features = [f for f in features if f != feature]\n",
    "                tmp_features = self.find_features(data, feature, tmp_features)\n",
    "                if len(tmp_features) >= 1 and X.shape[0] > self.min_samples:\n",
    "                    for f in tmp_features:\n",
    "                        X[f] = X[f].fillna(self.mean_dict[f])\n",
    "                    model_clone.fit(X[tmp_features], X[feature])\n",
    "                    self.model_dict[feature] = (model_clone, tmp_features.copy())\n",
    "                else:\n",
    "                    self.model_dict[feature] = (\"mean\", np.mean(data[feature]))\n",
    "            \n",
    "    def impute(self, data):\n",
    "        imputed_data = data.copy()\n",
    "        for feature, model in self.model_dict.items():\n",
    "            missing_rows = imputed_data[feature].isna()\n",
    "            if missing_rows.any():\n",
    "                if model[0] == \"mean\":\n",
    "                    imputed_data[feature].fillna(model[1], inplace=True)\n",
    "                else:\n",
    "                    tmp_features = [f for f in self.features if f != feature]\n",
    "                    X_missing = data.loc[missing_rows, tmp_features].copy()\n",
    "                    for f in tmp_features:\n",
    "                        X_missing[f] = X_missing[f].fillna(self.mean_dict[f])\n",
    "                    imputed_data.loc[missing_rows, feature] = model[0].predict(X_missing[model[1]])\n",
    "        return imputed_data"
   ]
  },
  {
   "cell_type": "code",
   "execution_count": 32,
   "id": "7760a471",
   "metadata": {
    "execution": {
     "iopub.execute_input": "2025-01-24T19:08:48.397924Z",
     "iopub.status.busy": "2025-01-24T19:08:48.397590Z",
     "iopub.status.idle": "2025-01-24T19:08:48.404956Z",
     "shell.execute_reply": "2025-01-24T19:08:48.404088Z"
    },
    "papermill": {
     "duration": 0.053845,
     "end_time": "2025-01-24T19:08:48.406734",
     "exception": false,
     "start_time": "2025-01-24T19:08:48.352889",
     "status": "completed"
    },
    "tags": []
   },
   "outputs": [],
   "source": [
    "# Code for finding optimal thresholds copied from: Michael Semenoff\n",
    "# https://www.kaggle.com/code/michaelsemenoff/cmi-actigraphy-feature-engineering-selection\n",
    "def round_with_thresholds(raw_preds, thresholds):\n",
    "    return np.where(raw_preds < thresholds[0], int(0),\n",
    "                    np.where(raw_preds < thresholds[1], int(1),\n",
    "                             np.where(raw_preds < thresholds[2], int(2), int(3))))\n",
    "\n",
    "def optimize_thresholds(y_true, raw_preds, start_vals=[0.5, 1.5, 2.5]):\n",
    "    def fun(thresholds, y_true, raw_preds):\n",
    "        rounded_preds = round_with_thresholds(raw_preds, thresholds)\n",
    "        return -cohen_kappa_score(y_true, rounded_preds, weights='quadratic')\n",
    "\n",
    "    res = minimize(fun, x0=start_vals, args=(y_true, raw_preds), method='Nelder-Mead')\n",
    "    assert res.success\n",
    "    return res.x\n",
    "\n",
    "# .............................................................................................\n",
    "def calculate_weights(series):\n",
    "    # Create bins for the target variable and assign weights based on frequency\n",
    "    bins = pd.cut(series, bins=10, labels=False)\n",
    "    weights = bins.value_counts().reset_index()\n",
    "    weights.columns = ['target_bins', 'count']\n",
    "    weights['count'] = 1 / weights['count']\n",
    "    weight_map = weights.set_index('target_bins')['count'].to_dict()\n",
    "    weights = bins.map(weight_map)\n",
    "    return weights / weights.mean() \n"
   ]
  },
  {
   "cell_type": "code",
   "execution_count": 33,
   "id": "4ef72151",
   "metadata": {
    "execution": {
     "iopub.execute_input": "2025-01-24T19:08:48.501285Z",
     "iopub.status.busy": "2025-01-24T19:08:48.500558Z",
     "iopub.status.idle": "2025-01-24T19:08:48.508354Z",
     "shell.execute_reply": "2025-01-24T19:08:48.507559Z"
    },
    "papermill": {
     "duration": 0.056473,
     "end_time": "2025-01-24T19:08:48.510130",
     "exception": false,
     "start_time": "2025-01-24T19:08:48.453657",
     "status": "completed"
    },
    "tags": []
   },
   "outputs": [],
   "source": [
    "def cross_validate(model_, data, features, score_col, index_col, cv, sample_weights=False, verbose=False):\n",
    "    \"\"\"\n",
    "    Perform cross-validation with a given model and compute the out-of-fold \n",
    "    predictions and Cohen's Kappa score for each fold.\n",
    "\n",
    "    Returns:\n",
    "    float: Mean Kappa score across all folds.\n",
    "    array: Out-of-fold score predictions for the entire dataset.\n",
    "    \"\"\"\n",
    "    kappa_scores = [] \n",
    "    oof_score_predictions = np.zeros(len(data))  \n",
    "\n",
    "    score_to_index_thresholds = base_thresholds  \n",
    "\n",
    "    for fold_idx, (train_idx, val_idx) in enumerate(cv.split(data, data[index_col])):\n",
    "        X_train, X_val = data[features].iloc[train_idx], data[features].iloc[val_idx]\n",
    "        y_train_score = data[score_col].iloc[train_idx]  \n",
    "        y_val_score = data[score_col].iloc[val_idx]      \n",
    "        y_val_index = data[index_col].iloc[val_idx]     \n",
    "        \n",
    "        # Train model with sample weights if provided\n",
    "        if sample_weights:\n",
    "            weights = calculate_weights(y_train_score)\n",
    "            model_.fit(X_train, y_train_score, sample_weight=weights)\n",
    "        else:\n",
    "            model_.fit(X_train, y_train_score)\n",
    "        \n",
    "        y_pred_val_score = model_.predict(X_val)\n",
    "        \n",
    "        oof_score_predictions[val_idx] = y_pred_val_score \n",
    "\n",
    "        y_pred_val_index = round_with_thresholds(y_pred_val_score, score_to_index_thresholds)\n",
    "\n",
    "        kappa_score = cohen_kappa_score(y_val_index, y_pred_val_index, weights='quadratic')\n",
    "        kappa_scores.append(kappa_score)\n",
    "        \n",
    "        if verbose:\n",
    "            print(f\"Fold {fold_idx}: Kappa Score = {kappa_score}\")\n",
    "    \n",
    "    if verbose:\n",
    "        print(f\"## Mean CV Kappa Score: {np.mean(kappa_scores)} ##\")\n",
    "    \n",
    "    return np.mean(kappa_scores), oof_score_predictions"
   ]
  },
  {
   "cell_type": "code",
   "execution_count": 34,
   "id": "17034781",
   "metadata": {
    "execution": {
     "iopub.execute_input": "2025-01-24T19:08:48.599633Z",
     "iopub.status.busy": "2025-01-24T19:08:48.599286Z",
     "iopub.status.idle": "2025-01-24T19:08:48.611456Z",
     "shell.execute_reply": "2025-01-24T19:08:48.610556Z"
    },
    "papermill": {
     "duration": 0.058992,
     "end_time": "2025-01-24T19:08:48.613269",
     "exception": false,
     "start_time": "2025-01-24T19:08:48.554277",
     "status": "completed"
    },
    "tags": []
   },
   "outputs": [],
   "source": [
    "def objective(trial, model_type, X, features, score_col, index_col, cv, sample_weights=False):\n",
    "    # Parameter space to explore if model is xgboost\n",
    "    if model_type == 'xgboost':\n",
    "        params = {\n",
    "            'objective': trial.suggest_categorical('objective', ['reg:squarederror','reg:tweedie', 'reg:pseudohubererror']),\n",
    "            'random_state': SEED,\n",
    "            'n_estimators': trial.suggest_int('n_estimators', 300, 600),\n",
    "            'max_depth': trial.suggest_int('max_depth', 3, 8),\n",
    "            'learning_rate': trial.suggest_loguniform('learning_rate', 0.02, 0.1),\n",
    "            'subsample': trial.suggest_float('subsample', 0.5, 1.0),\n",
    "            'colsample_bytree': trial.suggest_float('colsample_bytree', 0.5, 1.0),\n",
    "            'gamma': trial.suggest_float('gamma', 0.0, 5.0),\n",
    "            'reg_alpha': trial.suggest_loguniform('reg_alpha', 1e-5, 1e-1),\n",
    "            'reg_lambda': trial.suggest_loguniform('reg_lambda', 1e-5, 1e-1)\n",
    "        }\n",
    "        if params['objective'] == 'reg:tweedie':\n",
    "            params['tweedie_variance_power'] = trial.suggest_float('tweedie_variance_power', 1, 2)\n",
    "        model = XGBRegressor(**params, use_label_encoder=False)\n",
    "    \n",
    "    # Parameter space to explore if model is lightgbm\n",
    "    elif model_type == 'lightgbm':\n",
    "        params = {\n",
    "            'objective': trial.suggest_categorical('objective', ['poisson', 'tweedie', 'regression']),\n",
    "            'random_state': SEED,\n",
    "            'verbosity': -1,\n",
    "            'n_estimators': trial.suggest_int('n_estimators', 100, 600),\n",
    "            'max_depth': trial.suggest_int('max_depth', 3, 10),\n",
    "            'learning_rate': trial.suggest_loguniform('learning_rate', 0.01, 0.3),\n",
    "            'subsample': trial.suggest_float('subsample', 0.5, 1.0),\n",
    "            'colsample_bytree': trial.suggest_float('colsample_bytree', 0.5, 1.0),\n",
    "        }\n",
    "        if params['objective'] == 'tweedie':\n",
    "            params['tweedie_variance_power'] = trial.suggest_float('tweedie_variance_power', 1, 2)\n",
    "        model = LGBMRegressor(**params)\n",
    "    \n",
    "    # Parameter space to explore if model is catboost\n",
    "    elif model_type == 'catboost':\n",
    "        params = {\n",
    "            'loss_function': trial.suggest_categorical('objective', ['Tweedie:variance_power=1.5', 'Poisson', 'RMSE']),\n",
    "            'random_state': SEED,\n",
    "            'iterations': trial.suggest_int('iterations', 200, 600),\n",
    "            'depth': trial.suggest_int('depth', 4, 10),\n",
    "            'learning_rate': trial.suggest_loguniform('learning_rate', 0.01, 0.1),\n",
    "            'l2_leaf_reg': trial.suggest_loguniform('l2_leaf_reg', 1e-5, 1e-1),\n",
    "            'subsample': trial.suggest_float('subsample', 0.5, 1.0),\n",
    "            'bagging_temperature': trial.suggest_float('bagging_temperature', 0.0, 1.0),\n",
    "            'random_strength': trial.suggest_float('random_strength', 1e-3, 10.0),\n",
    "            'colsample_bylevel': trial.suggest_float('colsample_bylevel', 0.5, 1.0),\n",
    "            'min_data_in_leaf': trial.suggest_int('min_data_in_leaf', 1, 100),\n",
    "        }\n",
    "        model = CatBoostRegressor(**params, verbose=0)\n",
    "    \n",
    "    else:\n",
    "        raise ValueError(f\"Unsupported model_type: {model_type}\")\n",
    "\n",
    "    score, _ = cross_validate(model, X, features, score_col, index_col, cv, sample_weights=True, verbose=False)\n",
    "\n",
    "    return score\n",
    "\n",
    "def run_optimization(X, features, score_col, index_col, model_type, n_trials=30, cv=None, sample_weights=False):\n",
    "    study = optuna.create_study(direction=\"maximize\")\n",
    "    study.optimize(lambda trial: objective(trial, model_type, X, features, score_col, index_col, cv, sample_weights), \n",
    "                   n_trials=n_trials)\n",
    "    \n",
    "    print(f\"Best params for {model_type}: {study.best_params}\")\n",
    "    print(f\"Best score: {study.best_value}\")\n",
    "    return study.best_params"
   ]
  },
  {
   "cell_type": "code",
   "execution_count": 35,
   "id": "dc3012aa",
   "metadata": {
    "execution": {
     "iopub.execute_input": "2025-01-24T19:08:48.704354Z",
     "iopub.status.busy": "2025-01-24T19:08:48.703673Z",
     "iopub.status.idle": "2025-01-24T19:09:04.134249Z",
     "shell.execute_reply": "2025-01-24T19:09:04.133489Z"
    },
    "papermill": {
     "duration": 15.479053,
     "end_time": "2025-01-24T19:09:04.136372",
     "exception": false,
     "start_time": "2025-01-24T19:08:48.657319",
     "status": "completed"
    },
    "tags": []
   },
   "outputs": [
    {
     "name": "stderr",
     "output_type": "stream",
     "text": [
      "100%|██████████| 132/132 [00:02<00:00, 57.30it/s]\n"
     ]
    }
   ],
   "source": [
    "# Replace if subsets for features have been selected\n",
    "lgb_features = features\n",
    "xgb_features = features\n",
    "cat_features = features\n",
    "\n",
    "# ...........................................................................\n",
    "# Parameters for LGBM, XGB and CatBoost\n",
    "lgb_params = {\n",
    "    'objective': 'tweedie', \n",
    "    'n_estimators': 242, \n",
    "    'max_depth': 4, \n",
    "    'learning_rate': 0.029229916231368648, \n",
    "    'subsample': 0.9435713052516868, \n",
    "    'colsample_bytree': 0.6372563562692964, \n",
    "    'tweedie_variance_power': 1.7598875942201002\n",
    "}\n",
    "\n",
    "xgb_params = {\n",
    "    'objective': 'reg:tweedie', \n",
    "    'n_estimators': 554, \n",
    "    'max_depth': 3, \n",
    "    'learning_rate': 0.020148793517835852, \n",
    "    'subsample': 0.7245109070247534, \n",
    "    'colsample_bytree': 0.7516980111036932, \n",
    "    'gamma': 1.4405479996512962, \n",
    "    'reg_alpha': 0.00015467164351805926, \n",
    "    'reg_lambda': 0.011510449488765364, \n",
    "    'tweedie_variance_power': 1.2525085567413385\n",
    "}\n",
    "\n",
    "cat_params = {\n",
    "    'objective': 'RMSE', \n",
    "    'iterations': 476, \n",
    "    'depth': 6, \n",
    "    'learning_rate': 0.01508021072978329, \n",
    "    'l2_leaf_reg': 0.009219274204258077, \n",
    "    'subsample': 0.909899776448952, \n",
    "    'bagging_temperature': 0.4068004305795976, \n",
    "    'random_strength': 0.13085860045085365, \n",
    "    'colsample_bylevel': 0.5000595287404359,\n",
    "    'min_data_in_leaf': 27\n",
    "}\n",
    "\n",
    "# ...........................................................................\n",
    "model = Lasso(alpha=0.3, random_state=SEED)\n",
    "imputer = Impute_With_Model(na_frac=0.3)\n",
    "imputer.fit_models(model, train, features)\n",
    "train = imputer.impute(train)\n",
    "test = imputer.impute(test)"
   ]
  },
  {
   "cell_type": "code",
   "execution_count": 36,
   "id": "62d0f5aa",
   "metadata": {
    "execution": {
     "iopub.execute_input": "2025-01-24T19:09:04.231028Z",
     "iopub.status.busy": "2025-01-24T19:09:04.230637Z",
     "iopub.status.idle": "2025-01-24T19:10:52.787245Z",
     "shell.execute_reply": "2025-01-24T19:10:52.786298Z"
    },
    "papermill": {
     "duration": 108.60685,
     "end_time": "2025-01-24T19:10:52.789294",
     "exception": false,
     "start_time": "2025-01-24T19:09:04.182444",
     "status": "completed"
    },
    "tags": []
   },
   "outputs": [
    {
     "name": "stdout",
     "output_type": "stream",
     "text": [
      "Fold 0: Kappa Score = 0.4141916098462961\n",
      "Fold 1: Kappa Score = 0.4243697478991597\n",
      "Fold 2: Kappa Score = 0.5517382413087935\n",
      "Fold 3: Kappa Score = 0.5037854968936288\n",
      "Fold 4: Kappa Score = 0.4444760617485949\n",
      "Fold 5: Kappa Score = 0.4428046077786708\n",
      "Fold 6: Kappa Score = 0.38960687960687956\n",
      "Fold 7: Kappa Score = 0.3936916715888954\n",
      "Fold 8: Kappa Score = 0.49340009103322713\n",
      "Fold 9: Kappa Score = 0.46153846153846145\n",
      "## Mean CV Kappa Score: 0.45196028692426077 ##\n",
      "Fold 0: Kappa Score = 0.4450828937452902\n",
      "Fold 1: Kappa Score = 0.444585551702242\n",
      "Fold 2: Kappa Score = 0.5103528795063024\n",
      "Fold 3: Kappa Score = 0.48399246704331444\n",
      "Fold 4: Kappa Score = 0.36912999581373585\n",
      "Fold 5: Kappa Score = 0.44520963165935157\n",
      "Fold 6: Kappa Score = 0.3957973587567185\n",
      "Fold 7: Kappa Score = 0.43212505384946764\n",
      "Fold 8: Kappa Score = 0.459546925566343\n",
      "Fold 9: Kappa Score = 0.4251207729468599\n",
      "## Mean CV Kappa Score: 0.4410943530589626 ##\n",
      "Fold 0: Kappa Score = 0.4075675675675675\n",
      "Fold 1: Kappa Score = 0.44229731718083287\n",
      "Fold 2: Kappa Score = 0.4848492247588817\n",
      "Fold 3: Kappa Score = 0.49610782214384674\n",
      "Fold 4: Kappa Score = 0.44437809459829314\n",
      "Fold 5: Kappa Score = 0.46329126478391314\n",
      "Fold 6: Kappa Score = 0.37384527656339106\n",
      "Fold 7: Kappa Score = 0.388566478995236\n",
      "Fold 8: Kappa Score = 0.46657316503038804\n",
      "Fold 9: Kappa Score = 0.43486874690440813\n",
      "## Mean CV Kappa Score: 0.4402344958526759 ##\n",
      "Overall Mean Kappa: 0.44442971194529973\n"
     ]
    }
   ],
   "source": [
    "kf = StratifiedKFold(n_splits=n_splits, shuffle=True, random_state=SEED)\n",
    "\n",
    "if optimize_params:\n",
    "    # LightGBM Optimization\n",
    "    lgb_params = run_optimization(train, lgb_features, y_model, y_comp, 'lightgbm', n_trials=n_trials, cv=kf, sample_weights=True)\n",
    "\n",
    "    # XGBoost Optimization\n",
    "    xgb_params = run_optimization(train, xgb_features, y_model, y_comp, 'xgboost', n_trials=n_trials, cv=kf, sample_weights=True)\n",
    "\n",
    "    # CatBoost Optimization\n",
    "    cat_params = run_optimization(train, cat_features, y_model, y_comp, 'catboost', n_trials=n_trials, cv=kf, sample_weights=True)\n",
    "\n",
    "# ....................................................................................................................................\n",
    "# Define models\n",
    "lgb_model = LGBMRegressor(**lgb_params, random_state=SEED, verbosity=-1)\n",
    "xgb_model = XGBRegressor(**xgb_params, random_state=SEED, verbosity=0)\n",
    "cat_model = CatBoostRegressor(**cat_params, random_state=SEED, verbose=0)\n",
    "\n",
    "weights = calculate_weights(train[y_model])\n",
    "\n",
    "# Cross-validate LGBM model\n",
    "score_lgb, oof_lgb = cross_validate(lgb_model, train, lgb_features, y_model, y_comp, kf, verbose=True, sample_weights=True)\n",
    "lgb_model.fit(train[lgb_features], train[y_model], sample_weight=weights)\n",
    "test_lgb = lgb_model.predict(test[lgb_features])\n",
    "\n",
    "# Cross-validate XGBoost model\n",
    "score_xgb, oof_xgb = cross_validate(xgb_model, train, xgb_features, y_model, y_comp, kf, verbose=True, sample_weights=True)\n",
    "xgb_model.fit(train[xgb_features], train[y_model], sample_weight=weights)\n",
    "test_xgb = xgb_model.predict(test[xgb_features])\n",
    "\n",
    "# Cross-validate CatBoost model\n",
    "score_cat, oof_cat = cross_validate(cat_model, train, cat_features, y_model, y_comp, kf, verbose=True, sample_weights=True)\n",
    "cat_model.fit(train[cat_features], train[y_model], sample_weight=weights)\n",
    "test_cat = cat_model.predict(test[cat_features])\n",
    "\n",
    "print(f'Overall Mean Kappa: {np.mean([score_lgb, score_xgb, score_cat])}')\n"
   ]
  },
  {
   "cell_type": "code",
   "execution_count": 37,
   "id": "9a0cd6b4",
   "metadata": {
    "execution": {
     "iopub.execute_input": "2025-01-24T19:10:52.887733Z",
     "iopub.status.busy": "2025-01-24T19:10:52.886784Z",
     "iopub.status.idle": "2025-01-24T19:10:54.896321Z",
     "shell.execute_reply": "2025-01-24T19:10:54.895006Z"
    },
    "papermill": {
     "duration": 2.059015,
     "end_time": "2025-01-24T19:10:54.898456",
     "exception": false,
     "start_time": "2025-01-24T19:10:52.839441",
     "status": "completed"
    },
    "tags": []
   },
   "outputs": [
    {
     "name": "stdout",
     "output_type": "stream",
     "text": [
      "LGBM optimized thresholds: [31.0625     49.82638889 79.94444444]\n",
      "XGBoost optimized thresholds: [33.54166667 49.29783951 69.24691358]\n",
      "CatBoost optimized thresholds: [32.96606926 49.55039299 76.05931139]\n",
      "Voted ensemble Kappa score: 0.46320547522491196\n",
      "[1 0 1 0 1 1 0 0 2 1 1 1 1 1 1 1 0 0 0 1]\n",
      "__notebook__.ipynb  submission0.csv  submission2.csv\r\n",
      "catboost_info\t    submission1.csv\r\n"
     ]
    }
   ],
   "source": [
    "# Optimize thresholds for each model's OOF predictions\n",
    "lgb_thresholds = optimize_thresholds(train[y_comp], oof_lgb, start_vals=base_thresholds)\n",
    "print(f\"LGBM optimized thresholds: {lgb_thresholds}\")\n",
    "\n",
    "xgb_thresholds = optimize_thresholds(train[y_comp], oof_xgb, start_vals=base_thresholds)\n",
    "print(f\"XGBoost optimized thresholds: {xgb_thresholds}\")\n",
    "\n",
    "cat_thresholds = optimize_thresholds(train[y_comp], oof_cat, start_vals=base_thresholds)\n",
    "print(f\"CatBoost optimized thresholds: {cat_thresholds}\")\n",
    "\n",
    "# Apply the optimized thresholds to OOF predictions\n",
    "oof_lgb = round_with_thresholds(oof_lgb, lgb_thresholds)\n",
    "oof_xgb = round_with_thresholds(oof_xgb, xgb_thresholds)\n",
    "oof_cat = round_with_thresholds(oof_cat, cat_thresholds)\n",
    "voted_oof = stats.mode(np.array([oof_lgb, oof_xgb, oof_cat]), axis=0).mode.flatten().astype(int)\n",
    "\n",
    "# Calculate Kappa score for voted OOF predictions\n",
    "kappa_score = cohen_kappa_score(train[y_comp], voted_oof, weights='quadratic')\n",
    "print(f\"Voted ensemble Kappa score: {kappa_score}\")\n",
    "\n",
    "# Apply the optimized thresholds to test predictions\n",
    "test_lgb = round_with_thresholds(test_lgb, lgb_thresholds)\n",
    "test_xgb = round_with_thresholds(test_xgb, xgb_thresholds)\n",
    "test_cat = round_with_thresholds(test_cat, cat_thresholds)\n",
    "voted_test = stats.mode(np.array([test_lgb, test_xgb, test_cat]), axis=0).mode.flatten().astype(int)\n",
    "\n",
    "sub_mission = pd.read_csv(\"/kaggle/input/child-mind-institute-problematic-internet-use/sample_submission.csv\")\n",
    "sub_mission[y_comp] = voted_test\n",
    "sub_mission.to_csv(\"submission2.csv\", index=False)\n",
    "# Public Score : 0.457\n",
    "print(voted_test)\n",
    "!ls"
   ]
  },
  {
   "cell_type": "markdown",
   "id": "e3157dc9",
   "metadata": {
    "papermill": {
     "duration": 0.04566,
     "end_time": "2025-01-24T19:10:54.990680",
     "exception": false,
     "start_time": "2025-01-24T19:10:54.945020",
     "status": "completed"
    },
    "tags": []
   },
   "source": [
    "<p style=\"border-bottom: 50px solid lightgreen\"></p>\n",
    "\n",
    "<p style=\"border-bottom: 15px solid darkcyan\"></p>\n",
    "\n",
    "## <div style=\"color:yellow;display:inline-block;border-radius:5px;background-color:darkcyan;font-block:Nexa;overflow:hidden\"><p style=\"padding:15px;color:white;overflow:hidden;font-size:85%;letter-spacing:0.5px;margin:0\"><b> </b>၊၊||၊ Notebook imported - 3</p></div>\n",
    "\n",
    "### [CMI Problematic Internet Use](https://www.kaggle.com/code/vishnupriyagarige/cmi-problematic-internet-use/notebook)\n",
    "\n",
    "- Thanks to : @vishnupriyagarige"
   ]
  },
  {
   "cell_type": "code",
   "execution_count": 38,
   "id": "e5473c44",
   "metadata": {
    "execution": {
     "iopub.execute_input": "2025-01-24T19:10:55.087851Z",
     "iopub.status.busy": "2025-01-24T19:10:55.087441Z",
     "iopub.status.idle": "2025-01-24T19:10:55.217788Z",
     "shell.execute_reply": "2025-01-24T19:10:55.216707Z"
    },
    "papermill": {
     "duration": 0.182176,
     "end_time": "2025-01-24T19:10:55.220018",
     "exception": false,
     "start_time": "2025-01-24T19:10:55.037842",
     "status": "completed"
    },
    "tags": []
   },
   "outputs": [],
   "source": [
    "import pandas as pd\n",
    "import numpy as np\n",
    "import matplotlib.pyplot as plt\n",
    "import seaborn as sns\n",
    "\n",
    "from sklearn.preprocessing import StandardScaler, LabelEncoder\n",
    "\n",
    "from xgboost import XGBRegressor\n",
    "import xgboost as xgb\n",
    "from lightgbm import LGBMRegressor,LGBMClassifier\n",
    "import lightgbm as lgb\n",
    "from catboost import CatBoostRegressor\n",
    "from sklearn.ensemble import VotingRegressor\n",
    "\n",
    "from sklearn.base import clone\n",
    "from sklearn.model_selection import KFold\n",
    "from sklearn.model_selection import StratifiedKFold\n",
    "from sklearn.metrics import cohen_kappa_score\n",
    "from scipy.optimize import minimize\n",
    "\n",
    "# ................................................................................................................\n",
    "train_data = pd.read_csv('/kaggle/input/child-mind-institute-problematic-internet-use/train.csv')\n",
    "test_data = pd.read_csv('/kaggle/input/child-mind-institute-problematic-internet-use/test.csv')\n",
    "sample_data = pd.read_csv('/kaggle/input/child-mind-institute-problematic-internet-use/sample_submission.csv')\n"
   ]
  },
  {
   "cell_type": "code",
   "execution_count": 39,
   "id": "d279369e",
   "metadata": {
    "execution": {
     "iopub.execute_input": "2025-01-24T19:10:55.319245Z",
     "iopub.status.busy": "2025-01-24T19:10:55.318520Z",
     "iopub.status.idle": "2025-01-24T19:12:10.059882Z",
     "shell.execute_reply": "2025-01-24T19:12:10.058915Z"
    },
    "papermill": {
     "duration": 74.79258,
     "end_time": "2025-01-24T19:12:10.061829",
     "exception": false,
     "start_time": "2025-01-24T19:10:55.269249",
     "status": "completed"
    },
    "tags": []
   },
   "outputs": [
    {
     "name": "stderr",
     "output_type": "stream",
     "text": [
      "100%|██████████| 996/996 [01:14<00:00, 13.37it/s]\n",
      "100%|██████████| 2/2 [00:00<00:00, 12.63it/s]\n"
     ]
    }
   ],
   "source": [
    "from tqdm import tqdm\n",
    "from IPython.display import clear_output\n",
    "from concurrent.futures import ThreadPoolExecutor\n",
    "\n",
    "def process_file(filename, dirname):\n",
    "    data = pd.read_parquet(os.path.join(dirname, filename, 'part-0.parquet'))\n",
    "    data.drop('step', axis=1, inplace=True)\n",
    "    return data.describe().values.reshape(-1), filename.split('=')[1]\n",
    "\n",
    "def load_time_series(dirname) -> pd.DataFrame:\n",
    "    ids = os.listdir(dirname)\n",
    "    \n",
    "    with ThreadPoolExecutor() as executor:\n",
    "        results = list(tqdm(executor.map(lambda fname: process_file(fname, dirname), ids), total=len(ids)))\n",
    "    \n",
    "    stats, indexes = zip(*results)\n",
    "    data = pd.DataFrame(stats, columns=[f\"stat_{i}\" for i in range(len(stats[0]))])\n",
    "    data['id'] = indexes\n",
    "    \n",
    "    return data\n",
    "\n",
    "# ......................................................................................................................\n",
    "train_parquet = load_time_series(\"/kaggle/input/child-mind-institute-problematic-internet-use/series_train.parquet\")\n",
    "test_parquet = load_time_series(\"/kaggle/input/child-mind-institute-problematic-internet-use/series_test.parquet\")\n",
    "time_series_cols = train_parquet.columns.tolist()\n",
    "time_series_cols.remove(\"id\")"
   ]
  },
  {
   "cell_type": "code",
   "execution_count": 40,
   "id": "4926f3fb",
   "metadata": {
    "execution": {
     "iopub.execute_input": "2025-01-24T19:12:10.198687Z",
     "iopub.status.busy": "2025-01-24T19:12:10.198353Z",
     "iopub.status.idle": "2025-01-24T19:12:10.215020Z",
     "shell.execute_reply": "2025-01-24T19:12:10.214297Z"
    },
    "papermill": {
     "duration": 0.084626,
     "end_time": "2025-01-24T19:12:10.216777",
     "exception": false,
     "start_time": "2025-01-24T19:12:10.132151",
     "status": "completed"
    },
    "tags": []
   },
   "outputs": [],
   "source": [
    "train_data = pd.merge(train_data, train_parquet, how=\"left\", on='id')\n",
    "test_data = pd.merge(test_data, test_parquet, how=\"left\", on='id')\n",
    "\n",
    "# ............................................................................\n",
    "train_data = train_data.drop('id',axis=1)\n",
    "test_data = test_data.drop('id',axis=1)\n"
   ]
  },
  {
   "cell_type": "code",
   "execution_count": 41,
   "id": "5391be4d",
   "metadata": {
    "execution": {
     "iopub.execute_input": "2025-01-24T19:12:10.351583Z",
     "iopub.status.busy": "2025-01-24T19:12:10.351244Z",
     "iopub.status.idle": "2025-01-24T19:12:10.361121Z",
     "shell.execute_reply": "2025-01-24T19:12:10.359996Z"
    },
    "papermill": {
     "duration": 0.078514,
     "end_time": "2025-01-24T19:12:10.363019",
     "exception": false,
     "start_time": "2025-01-24T19:12:10.284505",
     "status": "completed"
    },
    "tags": []
   },
   "outputs": [
    {
     "name": "stdout",
     "output_type": "stream",
     "text": [
      "Train data columns: 155\n",
      "Test data columns: 154\n"
     ]
    }
   ],
   "source": [
    "# Example columns in your train and test data\n",
    "train_columns = train_data.columns.tolist()  # Train columns including target\n",
    "test_columns = test_data.columns.tolist()    # Test columns\n",
    "\n",
    "# Identify common feature columns between train and test (excluding target)\n",
    "common_columns = [col for col in train_columns if col in test_columns]\n",
    "\n",
    "# Include the target column explicitly in the final train set\n",
    "common_columns.append('sii')\n",
    "\n",
    "# Now, reduce the training data to only the common feature columns + target\n",
    "train_data = train_data[common_columns]\n",
    "\n",
    "# Print the resulting columns in the training data\n",
    "print(\"Train data columns:\", len(train_data.columns))\n",
    "print(\"Test data columns:\", len(test_data.columns))"
   ]
  },
  {
   "cell_type": "code",
   "execution_count": 42,
   "id": "973fd26b",
   "metadata": {
    "execution": {
     "iopub.execute_input": "2025-01-24T19:12:10.497874Z",
     "iopub.status.busy": "2025-01-24T19:12:10.497533Z",
     "iopub.status.idle": "2025-01-24T19:12:10.650823Z",
     "shell.execute_reply": "2025-01-24T19:12:10.649577Z"
    },
    "papermill": {
     "duration": 0.222444,
     "end_time": "2025-01-24T19:12:10.653096",
     "exception": false,
     "start_time": "2025-01-24T19:12:10.430652",
     "status": "completed"
    },
    "tags": []
   },
   "outputs": [],
   "source": [
    "train_data = train_data.dropna(subset='sii')\n",
    "\n",
    "num_cols = list(train_data.select_dtypes(exclude=['object']).columns.difference(['sii']))\n",
    "cat_cols = list(train_data.select_dtypes(include=['object']).columns)\n",
    "\n",
    "num_cols_test = list(test_data.select_dtypes(exclude=['object']).columns)\n",
    "cat_cols_test = list(test_data.select_dtypes(include=['object']).columns)\n",
    "\n",
    "#num_cols_test = [col for col in num_cols_test if col not in ['id']]\n",
    "\n",
    "# ...............................................................................................\n",
    "for col in cat_cols:\n",
    "    train_data[col] = train_data[col].fillna('missing')\n",
    "    train_data[col] = train_data[col].astype('category')\n",
    "    \n",
    "    test_data[col] = test_data[col].fillna('missing')\n",
    "    test_data[col] = test_data[col].astype('category')\n",
    "\n",
    "# ...............................................................................................\n",
    "for col in num_cols:\n",
    "    train_data[col] = train_data[col].fillna(train_data[col].median())\n",
    "    test_data[col] = test_data[col].fillna(test_data[col].median())\n"
   ]
  },
  {
   "cell_type": "code",
   "execution_count": 43,
   "id": "44613856",
   "metadata": {
    "execution": {
     "iopub.execute_input": "2025-01-24T19:12:10.783907Z",
     "iopub.status.busy": "2025-01-24T19:12:10.783194Z",
     "iopub.status.idle": "2025-01-24T19:12:10.841538Z",
     "shell.execute_reply": "2025-01-24T19:12:10.840561Z"
    },
    "papermill": {
     "duration": 0.124782,
     "end_time": "2025-01-24T19:12:10.843573",
     "exception": false,
     "start_time": "2025-01-24T19:12:10.718791",
     "status": "completed"
    },
    "tags": []
   },
   "outputs": [],
   "source": [
    "#  object datatype columns encoding:\n",
    "\n",
    "labelencoder = LabelEncoder()\n",
    "for col_name in cat_cols:\n",
    "    train_data[col_name]=labelencoder.fit_transform(train_data[col_name]).astype(int)\n",
    "        \n",
    "for col_name in cat_cols_test:\n",
    "    test_data[col_name]=labelencoder.transform(test_data[col_name]).astype(int)\n",
    "\n",
    "# ..........................................................................................\n",
    "scaler = StandardScaler()\n",
    "train_data[num_cols] = scaler.fit_transform(train_data[num_cols])\n",
    "test_data[num_cols] = scaler.transform(test_data[num_cols])\n",
    "\n",
    "# ..........................................................................................\n",
    "from sklearn.model_selection import train_test_split\n",
    "X = train_data.drop(['sii'], axis=1)\n",
    "y = train_data['sii']\n",
    "test = test_data"
   ]
  },
  {
   "cell_type": "code",
   "execution_count": 44,
   "id": "176fc48a",
   "metadata": {
    "execution": {
     "iopub.execute_input": "2025-01-24T19:12:10.973413Z",
     "iopub.status.busy": "2025-01-24T19:12:10.972564Z",
     "iopub.status.idle": "2025-01-24T19:12:10.978159Z",
     "shell.execute_reply": "2025-01-24T19:12:10.977436Z"
    },
    "papermill": {
     "duration": 0.071875,
     "end_time": "2025-01-24T19:12:10.979803",
     "exception": false,
     "start_time": "2025-01-24T19:12:10.907928",
     "status": "completed"
    },
    "tags": []
   },
   "outputs": [],
   "source": [
    "params_lgb = {'learning_rate': 0.060210090165748686, 'n_estimators': 676, 'max_depth': 5, 'num_leaves': 193, 'min_child_weight': 1.4676211795900709, 'subsample': 0.9176759029661259, 'colsample_bytree': 0.6228483814299844, 'lambda_l1': 5.972758940714118, 'lambda_l2': 0.08520209502101517}\n",
    "#Best QWK score: 0.4036\n",
    "params_xgb = {'learning_rate': 0.07655257571702724, 'n_estimators': 688, 'max_depth': 7, 'min_child_weight': 10, 'subsample': 0.8740939473627481, 'colsample_bytree': 0.9986562622011108, 'gamma': 0.005098593898531702, 'reg_alpha': 9.637641942675724, 'reg_lambda': 0.014395773764050573}\n",
    "#Best QWK score: 0.4086\n",
    "params_cat = {'iterations': 587, 'learning_rate': 0.055230940995657174, 'depth': 4, 'l2_leaf_reg': 0.00018791609018454318, 'subsample': 0.6500825893922675, 'colsample_bylevel': 0.9880985604359044, 'random_strength': 0.12043764855944512, 'bagging_temperature': 0.0008351502400011265, 'min_data_in_leaf': 21}\n",
    "#Best QWK score: 0.3859"
   ]
  },
  {
   "cell_type": "code",
   "execution_count": 45,
   "id": "828c0939",
   "metadata": {
    "execution": {
     "iopub.execute_input": "2025-01-24T19:12:11.109875Z",
     "iopub.status.busy": "2025-01-24T19:12:11.109162Z",
     "iopub.status.idle": "2025-01-24T19:12:11.114298Z",
     "shell.execute_reply": "2025-01-24T19:12:11.113515Z"
    },
    "papermill": {
     "duration": 0.072059,
     "end_time": "2025-01-24T19:12:11.116014",
     "exception": false,
     "start_time": "2025-01-24T19:12:11.043955",
     "status": "completed"
    },
    "tags": []
   },
   "outputs": [],
   "source": [
    "def quadratic_weighted_kappa(y_true, y_pred):\n",
    "    return cohen_kappa_score(y_true, y_pred, weights='quadratic')\n",
    "\n",
    "def threshold_Rounder(oof_non_rounded, thresholds):\n",
    "    return np.where(oof_non_rounded < thresholds[0], 0,\n",
    "                    np.where(oof_non_rounded < thresholds[1], 1,\n",
    "                             np.where(oof_non_rounded < thresholds[2], 2, 3)))\n",
    "\n",
    "def evaluate_predictions(thresholds, y_true, oof_non_rounded):\n",
    "    rounded_p = threshold_Rounder(oof_non_rounded, thresholds)\n",
    "    return -quadratic_weighted_kappa(y_true, rounded_p)"
   ]
  },
  {
   "cell_type": "code",
   "execution_count": 46,
   "id": "8c23b291",
   "metadata": {
    "execution": {
     "iopub.execute_input": "2025-01-24T19:12:11.246816Z",
     "iopub.status.busy": "2025-01-24T19:12:11.246127Z",
     "iopub.status.idle": "2025-01-24T19:12:11.256352Z",
     "shell.execute_reply": "2025-01-24T19:12:11.255478Z"
    },
    "papermill": {
     "duration": 0.077399,
     "end_time": "2025-01-24T19:12:11.258001",
     "exception": false,
     "start_time": "2025-01-24T19:12:11.180602",
     "status": "completed"
    },
    "tags": []
   },
   "outputs": [],
   "source": [
    "n_splits = 5\n",
    "def train_model(model_class, test_data):\n",
    "    \n",
    "    X = train_data.drop(['sii'], axis=1)\n",
    "    y = train_data['sii']\n",
    "    test = test_data\n",
    "\n",
    "    SKF = StratifiedKFold(n_splits=5, shuffle=True, random_state=42)\n",
    "    \n",
    "    models = []\n",
    "    train_pred = []\n",
    "    test_pred = []\n",
    "    \n",
    "    oof_non_rounded = np.zeros(len(y), dtype=float) \n",
    "    oof_rounded = np.zeros(len(y), dtype=int) \n",
    "    test_preds = np.zeros((len(test_data), n_splits))\n",
    "    for fold, (train_idx, test_idx) in enumerate(tqdm(SKF.split(X, y), desc=\"Training Folds\", total=n_splits)):\n",
    "        X_train, X_val = X.iloc[train_idx], X.iloc[test_idx]\n",
    "        y_train, y_val = y.iloc[train_idx], y.iloc[test_idx]\n",
    "\n",
    "        model = clone(model_class)\n",
    "        model.fit(X_train, y_train)\n",
    "\n",
    "        y_train_pred = model.predict(X_train)\n",
    "        y_val_pred = model.predict(X_val)\n",
    "\n",
    "        oof_non_rounded[test_idx] = y_val_pred\n",
    "        y_val_pred_rounded = y_val_pred.round(0).astype(int)\n",
    "        oof_rounded[test_idx] = y_val_pred_rounded\n",
    "\n",
    "        train_kappa = quadratic_weighted_kappa(y_train, y_train_pred.round(0).astype(int))\n",
    "        val_kappa = quadratic_weighted_kappa(y_val, y_val_pred_rounded)\n",
    "\n",
    "        train_pred.append(train_kappa)\n",
    "        test_pred.append(val_kappa)\n",
    "        \n",
    "        test_preds[:, fold] = model.predict(test)\n",
    "        \n",
    "        print(f\"Fold {fold+1} - Train QWK: {train_kappa:.4f}, Validation QWK: {val_kappa:.4f}\")\n",
    "        clear_output(wait=True)\n",
    "        models.append(model)\n",
    "\n",
    "    print(f\"Mean Train QWK : {np.mean(train_pred):.4f}\")\n",
    "    print(f\"Mean Validation QWK : {np.mean(test_pred):.4f}\")\n",
    "\n",
    "    KappaOPtimizer = minimize(evaluate_predictions, x0=[0.5, 1.5, 2.5], args=(y, oof_non_rounded), method='Nelder-Mead') \n",
    "    assert KappaOPtimizer.success, \"Optimization did not converge.\"\n",
    "    \n",
    "    oof_tuned = threshold_Rounder(oof_non_rounded, KappaOPtimizer.x)\n",
    "    tKappa = quadratic_weighted_kappa(y, oof_tuned)\n",
    "\n",
    "    print(f\"Optimized QWK SCORE :: {Fore.CYAN}{Style.BRIGHT} {tKappa:.3f}{Style.RESET_ALL}\")\n",
    "\n",
    "    pred_mean = test_preds.mean(axis=1)\n",
    "    pred = threshold_Rounder(pred_mean, KappaOPtimizer.x)\n",
    "    \n",
    "    submission = pd.DataFrame({'id': sample_data['id'],'sii': pred})\n",
    "\n",
    "    return submission"
   ]
  },
  {
   "cell_type": "code",
   "execution_count": 47,
   "id": "3ddab2b9",
   "metadata": {
    "execution": {
     "iopub.execute_input": "2025-01-24T19:12:11.386969Z",
     "iopub.status.busy": "2025-01-24T19:12:11.386157Z",
     "iopub.status.idle": "2025-01-24T19:12:53.080651Z",
     "shell.execute_reply": "2025-01-24T19:12:53.079716Z"
    },
    "papermill": {
     "duration": 41.760844,
     "end_time": "2025-01-24T19:12:53.082795",
     "exception": false,
     "start_time": "2025-01-24T19:12:11.321951",
     "status": "completed"
    },
    "tags": []
   },
   "outputs": [
    {
     "name": "stdout",
     "output_type": "stream",
     "text": [
      "Requirement already satisfied: colorama in /opt/conda/lib/python3.10/site-packages (0.4.6)\r\n"
     ]
    }
   ],
   "source": [
    "!pip install colorama\n",
    "from colorama import Fore, Style, init\n",
    "\n",
    "# ............................................................................\n",
    "# Create model instances\n",
    "lgb_model = LGBMRegressor(**params_lgb, random_state=42, verbosity=-1)\n",
    "XGB_Model = XGBRegressor(**params_xgb, random_state=42)\n",
    "CatBoost_Model = CatBoostRegressor(**params_cat,verbose=0)\n",
    "\n",
    "# Combine models using Voting Regressor\n",
    "voting_model = VotingRegressor(estimators=[('lightgbm', lgb_model),\n",
    "                                           ('xgboost', XGB_Model),\n",
    "                                           ('catboost', CatBoost_Model)])"
   ]
  },
  {
   "cell_type": "code",
   "execution_count": 48,
   "id": "8b8a711b",
   "metadata": {
    "execution": {
     "iopub.execute_input": "2025-01-24T19:12:53.254173Z",
     "iopub.status.busy": "2025-01-24T19:12:53.253399Z",
     "iopub.status.idle": "2025-01-24T19:13:26.510446Z",
     "shell.execute_reply": "2025-01-24T19:13:26.509203Z"
    },
    "papermill": {
     "duration": 33.364956,
     "end_time": "2025-01-24T19:13:26.512572",
     "exception": false,
     "start_time": "2025-01-24T19:12:53.147616",
     "status": "completed"
    },
    "tags": []
   },
   "outputs": [
    {
     "name": "stderr",
     "output_type": "stream",
     "text": [
      "Training Folds: 100%|██████████| 5/5 [00:31<00:00,  6.38s/it]"
     ]
    },
    {
     "name": "stdout",
     "output_type": "stream",
     "text": [
      "Mean Train QWK : 0.8068\n",
      "Mean Validation QWK : 0.3963\n"
     ]
    },
    {
     "name": "stderr",
     "output_type": "stream",
     "text": [
      "\n"
     ]
    },
    {
     "name": "stdout",
     "output_type": "stream",
     "text": [
      "Optimized QWK SCORE :: \u001b[36m\u001b[1m 0.454\u001b[0m\n",
      "[1 0 0 1 1 1 0 0 1 1 0 0 1 1 1 1 0 0 0 1]\n",
      "__notebook__.ipynb  submission0.csv  submission2.csv\r\n",
      "catboost_info\t    submission1.csv  submission3.csv\r\n"
     ]
    }
   ],
   "source": [
    "# Train the ensemble model\n",
    "Sub_vote = train_model(voting_model, test)\n",
    "\n",
    "# ...............................................\n",
    "# Saving submission:\n",
    "Sub_vote.to_csv('submission3.csv', index=False)\n",
    "vote = Sub_vote['sii'].values.copy()\n",
    "# Public Score : 0.464\n",
    "print(vote)\n",
    "!ls"
   ]
  },
  {
   "cell_type": "markdown",
   "id": "d6dbe745",
   "metadata": {
    "papermill": {
     "duration": 0.063735,
     "end_time": "2025-01-24T19:13:26.642164",
     "exception": false,
     "start_time": "2025-01-24T19:13:26.578429",
     "status": "completed"
    },
    "tags": []
   },
   "source": [
    "<p style=\"border-bottom: 50px solid lightgreen\"></p>\n",
    "\n",
    "<p style=\"border-bottom: 15px solid darkcyan\"></p>\n",
    "\n",
    "## <div style=\"color:yellow;display:inline-block;border-radius:5px;background-color:darkcyan;font-block:Nexa;overflow:hidden\"><p style=\"padding:15px;color:white;overflow:hidden;font-size:85%;letter-spacing:0.5px;margin:0\"><b> </b>၊၊||၊ Notebook imported - 4</p></div>\n",
    "\n",
    "### [CMI | Best Single Model](https://www.kaggle.com/code/abdmental01/cmi-best-single-model)\n",
    "\n",
    "- Thanks to : @abdmental01"
   ]
  },
  {
   "cell_type": "code",
   "execution_count": 49,
   "id": "215f50da",
   "metadata": {
    "execution": {
     "iopub.execute_input": "2025-01-24T19:13:26.772795Z",
     "iopub.status.busy": "2025-01-24T19:13:26.772415Z",
     "iopub.status.idle": "2025-01-24T19:13:26.781080Z",
     "shell.execute_reply": "2025-01-24T19:13:26.780428Z"
    },
    "papermill": {
     "duration": 0.075902,
     "end_time": "2025-01-24T19:13:26.782747",
     "exception": false,
     "start_time": "2025-01-24T19:13:26.706845",
     "status": "completed"
    },
    "tags": []
   },
   "outputs": [],
   "source": [
    "import numpy as np\n",
    "import polars as pl\n",
    "import pandas as pd\n",
    "from sklearn.base import clone\n",
    "from copy import deepcopy\n",
    "import optuna\n",
    "from scipy.optimize import minimize\n",
    "import os\n",
    "import matplotlib.pyplot as plt\n",
    "import seaborn as sns\n",
    "\n",
    "import re\n",
    "from colorama import Fore, Style\n",
    "\n",
    "from tqdm import tqdm\n",
    "from IPython.display import clear_output\n",
    "from concurrent.futures import ThreadPoolExecutor\n",
    "\n",
    "import warnings\n",
    "warnings.filterwarnings('ignore')\n",
    "pd.options.display.max_columns = None\n",
    "\n",
    "import lightgbm as lgb\n",
    "from catboost import CatBoostRegressor, CatBoostClassifier\n",
    "from xgboost import XGBRegressor\n",
    "from sklearn.ensemble import VotingRegressor\n",
    "from sklearn.model_selection import *\n",
    "from sklearn.metrics import *\n",
    "\n",
    "SEED = 42\n",
    "n_splits = 5"
   ]
  },
  {
   "cell_type": "code",
   "execution_count": 50,
   "id": "29ebcb20",
   "metadata": {
    "execution": {
     "iopub.execute_input": "2025-01-24T19:13:26.919349Z",
     "iopub.status.busy": "2025-01-24T19:13:26.918982Z",
     "iopub.status.idle": "2025-01-24T19:13:26.926382Z",
     "shell.execute_reply": "2025-01-24T19:13:26.925442Z"
    },
    "papermill": {
     "duration": 0.080453,
     "end_time": "2025-01-24T19:13:26.928042",
     "exception": false,
     "start_time": "2025-01-24T19:13:26.847589",
     "status": "completed"
    },
    "tags": []
   },
   "outputs": [],
   "source": [
    "def feature_engineering(df):\n",
    "    #season_cols = [col for col in df.columns if 'Season' in col]\n",
    "    #df = df.drop(season_cols, axis=1) \n",
    "    df['BMI_Age'] = df['Physical-BMI'] * df['Basic_Demos-Age']\n",
    "    df['Internet_Hours_Age'] = df['PreInt_EduHx-computerinternet_hoursday'] * df['Basic_Demos-Age']\n",
    "    df['BMI_Internet_Hours'] = df['Physical-BMI'] * df['PreInt_EduHx-computerinternet_hoursday']\n",
    "    df['BFP_BMI'] = df['BIA-BIA_Fat'] / df['BIA-BIA_BMI']\n",
    "    df['FFMI_BFP'] = df['BIA-BIA_FFMI'] / df['BIA-BIA_Fat']\n",
    "    df['FMI_BFP'] = df['BIA-BIA_FMI'] / df['BIA-BIA_Fat']\n",
    "    df['LST_TBW'] = df['BIA-BIA_LST'] / df['BIA-BIA_TBW']\n",
    "    df['BFP_BMR'] = df['BIA-BIA_Fat'] * df['BIA-BIA_BMR']\n",
    "    df['BFP_DEE'] = df['BIA-BIA_Fat'] * df['BIA-BIA_DEE']\n",
    "    df['BMR_Weight'] = df['BIA-BIA_BMR'] / df['Physical-Weight']\n",
    "    df['DEE_Weight'] = df['BIA-BIA_DEE'] / df['Physical-Weight']\n",
    "    df['SMM_Height'] = df['BIA-BIA_SMM'] / df['Physical-Height']\n",
    "    df['Muscle_to_Fat'] = df['BIA-BIA_SMM'] / df['BIA-BIA_FMI']\n",
    "    df['Hydration_Status'] = df['BIA-BIA_TBW'] / df['Physical-Weight']\n",
    "    df['ICW_TBW'] = df['BIA-BIA_ICW'] / df['BIA-BIA_TBW']\n",
    "    #df['Age_Weight'] = df['Basic_Demos-Age'] * df['Physical-Weight']\n",
    "    df['BMI_HeartRate'] = df['Physical-BMI'] * df['Physical-HeartRate']\n",
    "    return df"
   ]
  },
  {
   "cell_type": "code",
   "execution_count": 51,
   "id": "6e8d08f0",
   "metadata": {
    "execution": {
     "iopub.execute_input": "2025-01-24T19:13:27.064400Z",
     "iopub.status.busy": "2025-01-24T19:13:27.063723Z",
     "iopub.status.idle": "2025-01-24T19:14:41.888071Z",
     "shell.execute_reply": "2025-01-24T19:14:41.886961Z"
    },
    "papermill": {
     "duration": 74.895035,
     "end_time": "2025-01-24T19:14:41.890135",
     "exception": false,
     "start_time": "2025-01-24T19:13:26.995100",
     "status": "completed"
    },
    "tags": []
   },
   "outputs": [
    {
     "name": "stderr",
     "output_type": "stream",
     "text": [
      "100%|██████████| 996/996 [01:14<00:00, 13.41it/s]\n",
      "100%|██████████| 2/2 [00:00<00:00, 12.01it/s]\n"
     ]
    },
    {
     "name": "stdout",
     "output_type": "stream",
     "text": [
      "Train Shape : (2736, 171) || Test Shape : (20, 170)\n"
     ]
    }
   ],
   "source": [
    "def process_file(filename, dirname):\n",
    "    df = pd.read_parquet(os.path.join(dirname, filename, 'part-0.parquet'))\n",
    "    df.drop('step', axis=1, inplace=True)\n",
    "    return df.describe().values.reshape(-1), filename.split('=')[1]\n",
    "\n",
    "def load_time_series(dirname) -> pd.DataFrame:\n",
    "    ids = os.listdir(dirname)\n",
    "    \n",
    "    with ThreadPoolExecutor() as executor:\n",
    "        results = list(tqdm(executor.map(lambda fname: process_file(fname, dirname), ids), total=len(ids)))\n",
    "    \n",
    "    stats, indexes = zip(*results)\n",
    "    \n",
    "    df = pd.DataFrame(stats, columns=[f\"Stat_{i}\" for i in range(len(stats[0]))])\n",
    "    df['id'] = indexes\n",
    "    \n",
    "    return df\n",
    "\n",
    "train = pd.read_csv('/kaggle/input/child-mind-institute-problematic-internet-use/train.csv')\n",
    "test = pd.read_csv('/kaggle/input/child-mind-institute-problematic-internet-use/test.csv')\n",
    "sample = pd.read_csv('/kaggle/input/child-mind-institute-problematic-internet-use/sample_submission.csv')\n",
    "\n",
    "train_ts = load_time_series(\"/kaggle/input/child-mind-institute-problematic-internet-use/series_train.parquet\")\n",
    "test_ts = load_time_series(\"/kaggle/input/child-mind-institute-problematic-internet-use/series_test.parquet\")\n",
    "time_series_cols = train_ts.columns.tolist()\n",
    "time_series_cols.remove(\"id\")\n",
    "\n",
    "train = pd.merge(train, train_ts, how=\"left\", on='id')\n",
    "test = pd.merge(test, test_ts, how=\"left\", on='id')\n",
    "\n",
    "train = feature_engineering(train)\n",
    "train = train.dropna(thresh=10, axis=0)\n",
    "test = feature_engineering(test)\n",
    "\n",
    "train = train.drop('id', axis=1)\n",
    "test = test.drop('id', axis=1)\n",
    "\n",
    "featuresCols = ['Basic_Demos-Enroll_Season', 'Basic_Demos-Age', 'Basic_Demos-Sex',\n",
    "                'CGAS-Season', 'CGAS-CGAS_Score', 'Physical-Season', 'Physical-BMI',\n",
    "                'Physical-Height', 'Physical-Weight', 'Physical-Waist_Circumference',\n",
    "                'Physical-Diastolic_BP', 'Physical-HeartRate', 'Physical-Systolic_BP',\n",
    "                'Fitness_Endurance-Season', 'Fitness_Endurance-Max_Stage',\n",
    "                'Fitness_Endurance-Time_Mins', 'Fitness_Endurance-Time_Sec',\n",
    "                'FGC-Season', 'FGC-FGC_CU', 'FGC-FGC_CU_Zone', 'FGC-FGC_GSND',\n",
    "                'FGC-FGC_GSND_Zone', 'FGC-FGC_GSD', 'FGC-FGC_GSD_Zone', 'FGC-FGC_PU',\n",
    "                'FGC-FGC_PU_Zone', 'FGC-FGC_SRL', 'FGC-FGC_SRL_Zone', 'FGC-FGC_SRR',\n",
    "                'FGC-FGC_SRR_Zone', 'FGC-FGC_TL', 'FGC-FGC_TL_Zone', 'BIA-Season',\n",
    "                'BIA-BIA_Activity_Level_num', 'BIA-BIA_BMC', 'BIA-BIA_BMI',\n",
    "                'BIA-BIA_BMR', 'BIA-BIA_DEE', 'BIA-BIA_ECW', 'BIA-BIA_FFM',\n",
    "                'BIA-BIA_FFMI', 'BIA-BIA_FMI', 'BIA-BIA_Fat', 'BIA-BIA_Frame_num',\n",
    "                'BIA-BIA_ICW', 'BIA-BIA_LDM', 'BIA-BIA_LST', 'BIA-BIA_SMM',\n",
    "                'BIA-BIA_TBW', 'PAQ_A-Season', 'PAQ_A-PAQ_A_Total', 'PAQ_C-Season',\n",
    "                'PAQ_C-PAQ_C_Total', 'SDS-Season', 'SDS-SDS_Total_Raw',\n",
    "                'SDS-SDS_Total_T', 'PreInt_EduHx-Season',\n",
    "                'PreInt_EduHx-computerinternet_hoursday', 'sii', 'BMI_Age','Internet_Hours_Age','BMI_Internet_Hours',\n",
    "                'BFP_BMI', 'FFMI_BFP', 'FMI_BFP', 'LST_TBW', 'BFP_BMR', 'BFP_DEE', 'BMR_Weight', 'DEE_Weight',\n",
    "                'SMM_Height', 'Muscle_to_Fat', 'Hydration_Status', 'ICW_TBW', 'BMI_HeartRate', ]\n",
    "\n",
    "featuresCols += time_series_cols\n",
    "\n",
    "train = train[featuresCols]\n",
    "train = train.dropna(subset='sii')\n",
    "\n",
    "cat_c = ['Basic_Demos-Enroll_Season', 'CGAS-Season', 'Physical-Season', 'Fitness_Endurance-Season', \n",
    "          'FGC-Season', 'BIA-Season', 'PAQ_A-Season', 'PAQ_C-Season', 'SDS-Season', 'PreInt_EduHx-Season']\n",
    "\n",
    "def update(df):\n",
    "    for c in cat_c: \n",
    "        df[c] = df[c].fillna('Missing')\n",
    "        df[c] = df[c].astype('category')\n",
    "    return df\n",
    "train = update(train)\n",
    "test = update(test)\n",
    "\n",
    "def create_mapping(column, dataset):\n",
    "    unique_values = dataset[column].unique()\n",
    "    return {value: idx for idx, value in enumerate(unique_values)}\n",
    "\n",
    "\"\"\"This Mapping Works Fine For me I also Check Each Values in Train and test Using Logic. There no Data Lekage.\"\"\"\n",
    "\n",
    "for col in cat_c:\n",
    "    mapping_train = create_mapping(col, train)\n",
    "    mapping_test = create_mapping(col, test)\n",
    "    \n",
    "    train[col] = train[col].replace(mapping_train).astype(int)\n",
    "    test[col] = test[col].replace(mapping_test).astype(int)\n",
    "\n",
    "print(f'Train Shape : {train.shape} || Test Shape : {test.shape}')"
   ]
  },
  {
   "cell_type": "code",
   "execution_count": 52,
   "id": "695f4e18",
   "metadata": {
    "execution": {
     "iopub.execute_input": "2025-01-24T19:14:42.055018Z",
     "iopub.status.busy": "2025-01-24T19:14:42.054340Z",
     "iopub.status.idle": "2025-01-24T19:14:42.066220Z",
     "shell.execute_reply": "2025-01-24T19:14:42.065517Z"
    },
    "papermill": {
     "duration": 0.094935,
     "end_time": "2025-01-24T19:14:42.067826",
     "exception": false,
     "start_time": "2025-01-24T19:14:41.972891",
     "status": "completed"
    },
    "tags": []
   },
   "outputs": [],
   "source": [
    "def quadratic_weighted_kappa(y_true, y_pred):\n",
    "    return cohen_kappa_score(y_true, y_pred, weights='quadratic')\n",
    "\n",
    "def threshold_Rounder(oof_non_rounded, thresholds):\n",
    "    return np.where(oof_non_rounded < thresholds[0], 0,\n",
    "                    np.where(oof_non_rounded < thresholds[1], 1,\n",
    "                             np.where(oof_non_rounded < thresholds[2], 2, 3)))\n",
    "\n",
    "def evaluate_predictions(thresholds, y_true, oof_non_rounded):\n",
    "    rounded_p = threshold_Rounder(oof_non_rounded, thresholds)\n",
    "    return -quadratic_weighted_kappa(y_true, rounded_p)\n",
    "\n",
    "def TrainML(model_class, test_data):\n",
    "    \n",
    "    X = train.drop(['sii'], axis=1)\n",
    "    y = train['sii']\n",
    "\n",
    "    SKF = StratifiedKFold(n_splits=n_splits, shuffle=True, random_state=SEED)\n",
    "    \n",
    "    train_S = []\n",
    "    test_S = []\n",
    "    \n",
    "    oof_non_rounded = np.zeros(len(y), dtype=float) \n",
    "    oof_rounded = np.zeros(len(y), dtype=int) \n",
    "    test_preds = np.zeros((len(test_data), n_splits))\n",
    "\n",
    "    for fold, (train_idx, test_idx) in enumerate(tqdm(SKF.split(X, y), desc=\"Training Folds\", total=n_splits)):\n",
    "        X_train, X_val = X.iloc[train_idx], X.iloc[test_idx]\n",
    "        y_train, y_val = y.iloc[train_idx], y.iloc[test_idx]\n",
    "\n",
    "        model = clone(model_class)\n",
    "        model.fit(X_train, y_train)\n",
    "\n",
    "        y_train_pred = model.predict(X_train)\n",
    "        y_val_pred = model.predict(X_val)\n",
    "\n",
    "        oof_non_rounded[test_idx] = y_val_pred\n",
    "        y_val_pred_rounded = y_val_pred.round(0).astype(int)\n",
    "        oof_rounded[test_idx] = y_val_pred_rounded\n",
    "\n",
    "        train_kappa = quadratic_weighted_kappa(y_train, y_train_pred.round(0).astype(int))\n",
    "        val_kappa = quadratic_weighted_kappa(y_val, y_val_pred_rounded)\n",
    "\n",
    "        train_S.append(train_kappa)\n",
    "        test_S.append(val_kappa)\n",
    "        \n",
    "        test_preds[:, fold] = model.predict(test_data)\n",
    "        \n",
    "        print(f\"Fold {fold+1} - Train QWK: {train_kappa:.4f}, Validation QWK: {val_kappa:.4f}\")\n",
    "        clear_output(wait=True)\n",
    "\n",
    "    print(f\"Mean Train QWK --> {np.mean(train_S):.4f}\")\n",
    "    print(f\"Mean Validation QWK ---> {np.mean(test_S):.4f}\")\n",
    "\n",
    "    KappaOPtimizer = minimize(evaluate_predictions,\n",
    "                              x0=[0.5, 1.5, 2.5], args=(y, oof_non_rounded), \n",
    "                              method='Nelder-Mead') # Nelder-Mead | # Powell\n",
    "    assert KappaOPtimizer.success, \"Optimization did not converge.\"\n",
    "    \n",
    "    oof_tuned = threshold_Rounder(oof_non_rounded, KappaOPtimizer.x)\n",
    "    tKappa = quadratic_weighted_kappa(y, oof_tuned)\n",
    "\n",
    "    print(f\"----> || Optimized QWK SCORE :: {Fore.CYAN}{Style.BRIGHT} {tKappa:.3f}{Style.RESET_ALL}\")\n",
    "\n",
    "    tpm = test_preds.mean(axis=1)\n",
    "    tpTuned = threshold_Rounder(tpm, KappaOPtimizer.x)\n",
    "    \n",
    "    submission = pd.DataFrame({\n",
    "        'id': sample['id'],\n",
    "        'sii': tpTuned\n",
    "    })\n",
    "\n",
    "    return submission,model"
   ]
  },
  {
   "cell_type": "code",
   "execution_count": 53,
   "id": "a3ca5a14",
   "metadata": {
    "execution": {
     "iopub.execute_input": "2025-01-24T19:14:42.232318Z",
     "iopub.status.busy": "2025-01-24T19:14:42.231462Z",
     "iopub.status.idle": "2025-01-24T19:14:50.454805Z",
     "shell.execute_reply": "2025-01-24T19:14:50.453682Z"
    },
    "papermill": {
     "duration": 8.308246,
     "end_time": "2025-01-24T19:14:50.456719",
     "exception": false,
     "start_time": "2025-01-24T19:14:42.148473",
     "status": "completed"
    },
    "tags": []
   },
   "outputs": [
    {
     "name": "stderr",
     "output_type": "stream",
     "text": [
      "Training Folds: 100%|██████████| 5/5 [00:07<00:00,  1.59s/it]"
     ]
    },
    {
     "name": "stdout",
     "output_type": "stream",
     "text": [
      "Mean Train QWK --> 0.8447\n",
      "Mean Validation QWK ---> 0.3901\n"
     ]
    },
    {
     "name": "stderr",
     "output_type": "stream",
     "text": [
      "\n"
     ]
    },
    {
     "name": "stdout",
     "output_type": "stream",
     "text": [
      "----> || Optimized QWK SCORE :: \u001b[36m\u001b[1m 0.451\u001b[0m\n"
     ]
    }
   ],
   "source": [
    "Params7 = {'learning_rate': 0.03884249148676395, 'max_depth': 12, 'num_leaves': 413, 'min_data_in_leaf': 14,\n",
    "           'feature_fraction': 0.7987976913702801, 'bagging_fraction': 0.7602261703576205, 'bagging_freq': 2, \n",
    "           'lambda_l1': 4.735462555910575, 'lambda_l2': 4.735028557007343e-06} # CV : 0.4094 | LB : 0.471\n",
    "\n",
    "Light = lgb.LGBMRegressor(**Params7,random_state=SEED, verbose=-1,n_estimators=200)\n",
    "Submission,model = TrainML(Light,test)\n"
   ]
  },
  {
   "cell_type": "code",
   "execution_count": 54,
   "id": "bfe10b79",
   "metadata": {
    "execution": {
     "iopub.execute_input": "2025-01-24T19:14:50.621267Z",
     "iopub.status.busy": "2025-01-24T19:14:50.620560Z",
     "iopub.status.idle": "2025-01-24T19:14:51.664885Z",
     "shell.execute_reply": "2025-01-24T19:14:51.663900Z"
    },
    "papermill": {
     "duration": 1.127135,
     "end_time": "2025-01-24T19:14:51.666952",
     "exception": false,
     "start_time": "2025-01-24T19:14:50.539817",
     "status": "completed"
    },
    "tags": []
   },
   "outputs": [
    {
     "name": "stdout",
     "output_type": "stream",
     "text": [
      "[0 0 0 1 0 2 0 0 1 0 0 0 1 1 1 1 0 0 0 1]\n",
      "__notebook__.ipynb  submission0.csv  submission2.csv  submission4.csv\r\n",
      "catboost_info\t    submission1.csv  submission3.csv\r\n"
     ]
    }
   ],
   "source": [
    "Submission.to_csv('submission4.csv', index=False)\n",
    "single = Submission['sii'].values.copy()\n",
    "# PB : 0.471\n",
    "print(single)\n",
    "!ls"
   ]
  },
  {
   "cell_type": "markdown",
   "id": "87eeab42",
   "metadata": {
    "papermill": {
     "duration": 0.078303,
     "end_time": "2025-01-24T19:14:51.825382",
     "exception": false,
     "start_time": "2025-01-24T19:14:51.747079",
     "status": "completed"
    },
    "tags": []
   },
   "source": [
    "<p style=\"border-bottom: 50px solid lightgreen\"></p>\n",
    "\n",
    "<p style=\"border-bottom: 15px solid darkcyan\"></p>\n",
    "\n",
    "## <div style=\"color:yellow;display:inline-block;border-radius:5px;background-color:darkcyan;font-block:Nexa;overflow:hidden\"><p style=\"padding:15px;color:white;overflow:hidden;font-size:85%;letter-spacing:0.5px;margin:0\"><b> </b>၊၊||၊ End to End</p></div>\n",
    "## Энсемблируем решения всех ноутбуков"
   ]
  },
  {
   "cell_type": "code",
   "execution_count": 55,
   "id": "09e8b791",
   "metadata": {
    "execution": {
     "iopub.execute_input": "2025-01-24T19:14:51.988219Z",
     "iopub.status.busy": "2025-01-24T19:14:51.987244Z",
     "iopub.status.idle": "2025-01-24T19:14:52.310527Z",
     "shell.execute_reply": "2025-01-24T19:14:52.309631Z"
    },
    "papermill": {
     "duration": 0.40525,
     "end_time": "2025-01-24T19:14:52.312249",
     "exception": false,
     "start_time": "2025-01-24T19:14:51.906999",
     "status": "completed"
    },
    "tags": []
   },
   "outputs": [
    {
     "data": {
      "image/png": "[encoded data removed]",
      "text/plain": [
       "<Figure size 640x480 with 2 Axes>"
      ]
     },
     "metadata": {},
     "output_type": "display_data"
    }
   ],
   "source": [
    "score_list = [0.452, 0.440, 0.457, 0.464, 0.475]\n",
    "preds_list = [preds_lgbm, test_pred_rounded, voted_test, vote, single]\n",
    "\n",
    "# ..........................................................................\n",
    "result_corr = pd.DataFrame({\n",
    "    'pred-0': preds_list[0],\n",
    "    'pred-1': preds_list[1],\n",
    "    'pred-2': preds_list[2],\n",
    "    'pred-3': preds_list[3],\n",
    "    'pred-4': preds_list[4],\n",
    "})\n",
    "\n",
    "df_corr = result_corr.corr()\n",
    "sns.heatmap(df_corr, center=0, annot=True, cmap='Pastel2', linewidths=1)\n",
    "plt.title('Correlation between results')\n",
    "plt.show()"
   ]
  },
  {
   "cell_type": "code",
   "execution_count": 56,
   "id": "1fb78aa9",
   "metadata": {
    "execution": {
     "iopub.execute_input": "2025-01-24T19:14:52.477167Z",
     "iopub.status.busy": "2025-01-24T19:14:52.476500Z",
     "iopub.status.idle": "2025-01-24T19:14:53.564489Z",
     "shell.execute_reply": "2025-01-24T19:14:53.563522Z"
    },
    "papermill": {
     "duration": 1.172939,
     "end_time": "2025-01-24T19:14:53.566801",
     "exception": false,
     "start_time": "2025-01-24T19:14:52.393862",
     "status": "completed"
    },
    "tags": []
   },
   "outputs": [
    {
     "name": "stdout",
     "output_type": "stream",
     "text": [
      "[1 0 0 0 1 1 0 0 1 1 1 0 1 1 1 1 0 0 0 1]\n",
      "[3 5 3 3 4 3 3 3 2 4 3 3 4 4 4 5 5 4 5 3]\n",
      "__notebook__.ipynb  submission.csv   submission1.csv  submission3.csv\r\n",
      "catboost_info\t    submission0.csv  submission2.csv  submission4.csv\r\n"
     ]
    }
   ],
   "source": [
    "preds_list = [preds_lgbm, test_pred_rounded, voted_test, vote, single]\n",
    "\n",
    "# ..........................................................................\n",
    "pr_blend = stats.mode(preds_list)[0] \n",
    "count_pr_blend = stats.mode(preds_list)[1]\n",
    "\n",
    "sub_blend = sub_sample.copy()\n",
    "sub_blend['sii'] = pr_blend.copy()    \n",
    "sub_blend.to_csv('submission.csv', index=False)\n",
    "# Public Score: 0.483\n",
    "\n",
    "# ..........................................................................\n",
    "print(pr_blend)\n",
    "print(count_pr_blend)\n",
    "!ls"
   ]
  },
  {
   "cell_type": "markdown",
   "id": "efda4a94",
   "metadata": {
    "papermill": {
     "duration": 0.080804,
     "end_time": "2025-01-24T19:14:53.729007",
     "exception": false,
     "start_time": "2025-01-24T19:14:53.648203",
     "status": "completed"
    },
    "tags": []
   },
   "source": [
    "<p style=\"border-bottom: 50px solid lightgreen\"></p>\n",
    "\n",
    "<p style=\"border-bottom: 15px solid darkcyan\"></p>"
   ]
  }
 ],
 "metadata": {
  "kaggle": {
   "accelerator": "nvidiaTeslaT4",
   "dataSources": [
    {
     "databundleVersionId": 9643020,
     "sourceId": 81933,
     "sourceType": "competition"
    },
    {
     "sourceId": 208433087,
     "sourceType": "kernelVersion"
    }
   ],
   "dockerImageVersionId": 30761,
   "isGpuEnabled": true,
   "isInternetEnabled": false,
   "language": "python",
   "sourceType": "notebook"
  },
  "kernelspec": {
   "display_name": "Python 3",
   "language": "python",
   "name": "python3"
  },
  "language_info": {
   "codemirror_mode": {
    "name": "ipython",
    "version": 3
   },
   "file_extension": ".py",
   "mimetype": "text/x-python",
   "name": "python",
   "nbconvert_exporter": "python",
   "pygments_lexer": "ipython3",
   "version": "3.10.14"
  },
  "papermill": {
   "default_parameters": {},
   "duration": 577.106086,
   "end_time": "2025-01-24T19:14:55.031442",
   "environment_variables": {},
   "exception": null,
   "input_path": "__notebook__.ipynb",
   "output_path": "__notebook__.ipynb",
   "parameters": {},
   "start_time": "2025-01-24T19:05:17.925356",
   "version": "2.6.0"
  }
 },
 "nbformat": 4,
 "nbformat_minor": 5
}
